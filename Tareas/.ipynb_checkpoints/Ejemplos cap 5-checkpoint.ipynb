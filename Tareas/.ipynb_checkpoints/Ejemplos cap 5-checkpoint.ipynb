{
 "cells": [
  {
   "cell_type": "code",
   "execution_count": 17,
   "metadata": {
    "collapsed": true
   },
   "outputs": [],
   "source": [
    "import numpy as np\n",
    "import scipy as sp\n",
    "import matplotlib.pyplot as plt"
   ]
  },
  {
   "cell_type": "code",
   "execution_count": 6,
   "metadata": {
    "collapsed": true
   },
   "outputs": [],
   "source": [
    "gama=np.array([50,70,90,110,130]) #datos de rata\n",
    "tao_experimental=np.array([6.01,7.48,8.59,9.19,10.21]) #datos de esfuerzo"
   ]
  },
  {
   "cell_type": "code",
   "execution_count": 8,
   "metadata": {},
   "outputs": [],
   "source": [
    "(a,b)=sp.polyfit(gama,tao,1) #polyfit encuentra a y b tales que y=a*gama+b que mejor se ajusta a los datos\n",
    "tao_ajuste=sp.polyval([a,b],gama) #polyval me evalùa, con los parámetros a y b, los valores de gama\n",
    "error=np.sqrt(sum((tao_ajuste-tao_experimental)**2)/tao_ajuste.size) #saco el error cuadratico medio entre el valor real de tao y el obtenido con la curva"
   ]
  },
  {
   "cell_type": "code",
   "execution_count": 10,
   "metadata": {},
   "outputs": [
    {
     "name": "stdout",
     "output_type": "stream",
     "text": [
      "parameters: a=0.051 b=3.747 error=0.210\n"
     ]
    }
   ],
   "source": [
    "print('parameters: a=%.3f b=%.3f error=%.3f' %(a,b,error)) #impresión de parámetros obtenidos"
   ]
  },
  {
   "cell_type": "code",
   "execution_count": 13,
   "metadata": {
    "collapsed": true
   },
   "outputs": [],
   "source": [
    "t=np.linspace(gama[0],gama[-1]) #vector con datos de x (gama) para ser graficados"
   ]
  },
  {
   "cell_type": "code",
   "execution_count": 16,
   "metadata": {},
   "outputs": [],
   "source": [
    "modelo=sp.polyval([a,b],t) # datos de y (tao modelo)"
   ]
  },
  {
   "cell_type": "code",
   "execution_count": 27,
   "metadata": {},
   "outputs": [
    {
     "data": {
      "image/png": "[encoded data removed]",
      "text/plain": [
       "<matplotlib.figure.Figure at 0x116586588>"
      ]
     },
     "metadata": {},
     "output_type": "display_data"
    }
   ],
   "source": [
    "plt.plot(gama,tao_experimental,'*k')  #Graficación\n",
    "plt.plot(t,modelo,'r')\n",
    "plt.ylabel('$\\\\tau$')\n",
    "plt.xlabel('$\\dot{\\gamma}$')\n",
    "plt.show()"
   ]
  },
  {
   "cell_type": "code",
   "execution_count": null,
   "metadata": {
    "collapsed": true
   },
   "outputs": [],
   "source": []
  }
 ],
 "metadata": {
  "kernelspec": {
   "display_name": "Python 3",
   "language": "python",
   "name": "python3"
  },
  "language_info": {
   "codemirror_mode": {
    "name": "ipython",
    "version": 3
   },
   "file_extension": ".py",
   "mimetype": "text/x-python",
   "name": "python",
   "nbconvert_exporter": "python",
   "pygments_lexer": "ipython3",
   "version": "3.6.3"
  }
 },
 "nbformat": 4,
 "nbformat_minor": 2
}
