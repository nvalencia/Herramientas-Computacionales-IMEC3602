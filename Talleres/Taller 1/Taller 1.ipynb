{
 "cells": [
  {
   "cell_type": "code",
   "execution_count": 22,
   "metadata": {
    "collapsed": true
   },
   "outputs": [],
   "source": [
    "import numpy as np\n",
    "import scipy as sp\n",
    "import matplotlib.pylab as plt\n",
    "import pandas as pd\n",
    "import os"
   ]
  },
  {
   "cell_type": "code",
   "execution_count": 23,
   "metadata": {
    "collapsed": true
   },
   "outputs": [],
   "source": [
    "ruta_entrada= os.path.join( '.','data')\n",
    "ruta_salida = os.path.join( '.','output')\n",
    "ciudad = 'Valledupar'\n",
    "fuente = 'IDEAM'\n",
    "ruta_serie= os.path.join(ruta_entrada,ciudad,fuente+'.csv')\n",
    "serie= pd.read_csv(ruta_serie, sep = ';',\n",
    "                encoding='latin-1')"
   ]
  },
  {
   "cell_type": "markdown",
   "metadata": {},
   "source": [
    "## Punto 1"
   ]
  },
  {
   "cell_type": "code",
   "execution_count": 24,
   "metadata": {},
   "outputs": [],
   "source": [
    "def GHI_promedio(serie_horaria):  #Cálculo ENFICC 99%\n",
    "    agnos=sorted(serie_horaria['AÑO'].unique())\n",
    "    ghi_df=pd.DataFrame(columns=[\"AÑO\",\"MES\",\"DIAS\",\"GHImes\"])\n",
    "    energia = list(serie_horaria)[-1]\n",
    "    for agno in agnos:\n",
    "        for mes in range(1,13):\n",
    "            dias = sorted(serie_horaria[(serie_horaria['AÑO'] == agno) &\n",
    "                        (serie_horaria['MES'] == mes)][\"DIA\"].unique())\n",
    "            ghi_mes = serie_horaria.loc[((serie_horaria[\"AÑO\"] == agno)\n",
    "                            & (serie_horaria[\"MES\"] == mes)),\n",
    "                                        energia].sum()/1000\n",
    "            ghi_dict = {\"AÑO\":agno, \"MES\":mes, \"DIAS\":dias[-1],\n",
    "                        \"GHImes\":ghi_mes}\n",
    "            ghi_df = ghi_df.append(ghi_dict, ignore_index=True)\n",
    "        \n",
    "        \n",
    "    agnos2=sorted(ghi_df['AÑO'].unique())\n",
    "    df_dias=pd.DataFrame(columns=[\"AÑO\",\"MES\",\"GHIdia\"])\n",
    "    for agno in agnos2:\n",
    "        for mes in range(1,13):\n",
    "            dia=ghi_df.loc[((ghi_df['AÑO']==agno) &\n",
    "                                   (ghi_df['MES']==mes)),'DIAS'].item()\n",
    "            ghi_diario=ghi_df.loc[((ghi_df['AÑO']==agno) & \n",
    "                                          (ghi_df['MES']==mes)),'GHImes'].item()/dia\n",
    "            ghi_dict = {'AÑO':agno,'MES':mes,'GHIdia':ghi_diario}\n",
    "            df_dias=df_dias.append(ghi_dict,ignore_index=True)\n",
    "        \n",
    "    ENFICC=df_dias.quantile(0.01,numeric_only=True)['GHIdia']\n",
    "        \n",
    "    return print('La ENFICC 99% es', ENFICC)"
   ]
  },
  {
   "cell_type": "code",
   "execution_count": 25,
   "metadata": {},
   "outputs": [
    {
     "name": "stdout",
     "output_type": "stream",
     "text": [
      "La ENFICC 99% es 4.56900737661\n"
     ]
    }
   ],
   "source": [
    "GHI_promedio(serie)"
   ]
  },
  {
   "cell_type": "markdown",
   "metadata": {},
   "source": [
    "## Punto 3"
   ]
  },
  {
   "cell_type": "code",
   "execution_count": 35,
   "metadata": {},
   "outputs": [],
   "source": [
    "corta=serie[serie['AÑO'] == 2010] #Df con todo el año 2010\n",
    "seriecorta2=serie[(serie['AÑO'] >= 2007) & (serie['AÑO'] <=2012 )] #DF con año 2007 al 2011"
   ]
  },
  {
   "cell_type": "code",
   "execution_count": 36,
   "metadata": {
    "collapsed": true
   },
   "outputs": [],
   "source": [
    "ciudad = 'Valledupar'\n",
    "fuente2 = 'NREL'\n",
    "ruta_serie= os.path.join(ruta_entrada,ciudad,fuente2+'.csv')\n",
    "serienrel= pd.read_csv(ruta_serie, sep = ';',\n",
    "                encoding='latin-1')"
   ]
  },
  {
   "cell_type": "code",
   "execution_count": 37,
   "metadata": {
    "collapsed": true
   },
   "outputs": [],
   "source": [
    "def MCP(serie_corta,serie_larga):\n",
    "    agnos=serie_corta['AÑO']\n",
    "    serie_larga_cortada=pd.DataFrame(columns=['AÑO','MES','DIA','GHI'])\n",
    "    serie_ajustada=pd.DataFrame(columns=['AÑO','MES','DIA','GHI'])\n",
    "    ghi_corto_prom=serie_corta['IDEAM'].sum()/len(serie_corta)\n",
    "    desvest_corto=serie_corta['IDEAM'].std()\n",
    "    for agno in agnos:\n",
    "        agnoslargo=sorted(serielarga['AÑO']==agno)['DIA']\n",
    "        #FALTA SABER COMO HACER QUE SERIE LARGA TENGA EL MISMO AÑO QUE SERIE CORTA"
   ]
  },
  {
   "cell_type": "code",
   "execution_count": null,
   "metadata": {},
   "outputs": [],
   "source": []
  },
  {
   "cell_type": "code",
   "execution_count": null,
   "metadata": {},
   "outputs": [],
   "source": []
  },
  {
   "cell_type": "code",
   "execution_count": null,
   "metadata": {
    "collapsed": true
   },
   "outputs": [],
   "source": []
  }
 ],
 "metadata": {
  "kernelspec": {
   "display_name": "Python 3",
   "language": "python",
   "name": "python3"
  },
  "language_info": {
   "codemirror_mode": {
    "name": "ipython",
    "version": 3
   },
   "file_extension": ".py",
   "mimetype": "text/x-python",
   "name": "python",
   "nbconvert_exporter": "python",
   "pygments_lexer": "ipython3",
   "version": "3.6.3"
  }
 },
 "nbformat": 4,
 "nbformat_minor": 2
}
