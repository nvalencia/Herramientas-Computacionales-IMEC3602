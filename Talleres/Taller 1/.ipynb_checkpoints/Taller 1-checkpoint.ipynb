{
 "cells": [
  {
   "cell_type": "code",
   "execution_count": 41,
   "metadata": {
    "collapsed": true
   },
   "outputs": [],
   "source": [
    "import numpy as np\n",
    "import scipy as sp\n",
    "import matplotlib.pylab as plt\n",
    "import pandas as pd\n",
    "import os\n",
    "from scipy.stats import norm\n",
    "import math\n",
    "import operator"
   ]
  },
  {
   "cell_type": "code",
   "execution_count": 113,
   "metadata": {},
   "outputs": [],
   "source": [
    "#Importación de datos\n",
    "\n",
    "ruta_entrada= os.path.join( '.','data')\n",
    "ruta_salida = os.path.join( '.','output')\n",
    "datos_valledupar = 'Valledupar'\n",
    "datos_ideam_valledupar = 'IDEAM'\n",
    "ruta_serie_valledupar_ideam= os.path.join(ruta_entrada,datos_valledupar,datos_ideam_valledupar+'.csv')\n",
    "ideam_valledupar= pd.read_csv(ruta_serie_valledupar_ideam, sep = ';',\n",
    "                encoding='latin-1')\n",
    "datos_nrel_valledupar = 'NREL'\n",
    "ruta_serie_valledupar_nrel= os.path.join(ruta_entrada,datos_valledupar,datos_nrel_valledupar+'.csv')\n",
    "nrel_valledupar= pd.read_csv(ruta_serie_valledupar_nrel, sep = ';',\n",
    "                encoding='latin-1')\n",
    "\n",
    "datos_uribia = 'Uribia'\n",
    "datos_ideam_uribia = 'IDEAM'\n",
    "ruta_serie_uribia_ideam= os.path.join(ruta_entrada,datos_uribia,datos_ideam_uribia+'.csv')\n",
    "ideam_uribia= pd.read_csv(ruta_serie_uribia_ideam, sep = ';',\n",
    "                encoding='latin-1')\n",
    "datos_nrel_uribia = 'NREL'\n",
    "ruta_serie_uribia_nrel= os.path.join(ruta_entrada,datos_uribia,datos_nrel_uribia+'.csv')\n",
    "nrel_uribia= pd.read_csv(ruta_serie_uribia_nrel, sep = ';',\n",
    "                encoding='latin-1')\n",
    "\n",
    "datos_sucre= 'Sucre'\n",
    "datos_ideam_sucre = 'IDEAM'\n",
    "ruta_serie_sucre_ideam= os.path.join(ruta_entrada,datos_sucre,datos_ideam_sucre+'.csv')\n",
    "ideam_sucre= pd.read_csv(ruta_serie_sucre_ideam, sep = ';',\n",
    "                encoding='latin-1')\n",
    "datos_nrel_sucre = 'NREL'\n",
    "ruta_serie_sucre_nrel= os.path.join(ruta_entrada,datos_sucre,datos_nrel_sucre+'.csv')\n",
    "nrel_sucre= pd.read_csv(ruta_serie_sucre_nrel, sep = ';',\n",
    "                encoding='latin-1')\n",
    "\n",
    "datos_santamarta = 'SantaMarta'\n",
    "datos_ideam_santamarta = 'IDEAM'\n",
    "ruta_serie_santamarta_ideam= os.path.join(ruta_entrada,datos_santamarta,datos_ideam_santamarta+'.csv')\n",
    "ideam_santamarta= pd.read_csv(ruta_serie_santamarta_ideam, sep = ';',\n",
    "                encoding='latin-1')\n",
    "datos_nrel_santamarta = 'NREL'\n",
    "ruta_serie_santamarta_nrel= os.path.join(ruta_entrada,datos_santamarta,datos_nrel_santamarta+'.csv')\n",
    "nrel_santamarta= pd.read_csv(ruta_serie_santamarta_nrel, sep = ';',\n",
    "                encoding='latin-1')\n",
    "\n",
    "datos_medellin = 'Medellin'\n",
    "datos_ideam_medellin = 'IDEAM'\n",
    "ruta_serie_medellin_ideam= os.path.join(ruta_entrada,datos_medellin,datos_ideam_medellin+'.csv')\n",
    "ideam_medellin= pd.read_csv(ruta_serie_medellin_ideam, sep = ';',\n",
    "                encoding='latin-1')\n",
    "datos_nrel_medellin = 'NREL'\n",
    "ruta_serie_medellin_nrel= os.path.join(ruta_entrada,datos_medellin,datos_nrel_medellin+'.csv')\n",
    "nrel_medellin= pd.read_csv(ruta_serie_medellin_nrel, sep = ';',\n",
    "                encoding='latin-1')\n",
    "\n",
    "datos_carmen = 'Carmendebolivar'\n",
    "datos_ideam_carmen = 'IDEAM'\n",
    "ruta_serie_carmen_ideam= os.path.join(ruta_entrada,datos_carmen,datos_ideam_carmen+'.csv')\n",
    "ideam_carmen= pd.read_csv(ruta_serie_carmen_ideam, sep = ';',\n",
    "                encoding='latin-1')\n",
    "datos_nrel_carmen = 'NREL'\n",
    "ruta_serie_carmen_nrel= os.path.join(ruta_entrada,datos_carmen,datos_nrel_carmen+'.csv')\n",
    "nrel_carmen= pd.read_csv(ruta_serie_carmen_nrel, sep = ';',\n",
    "                encoding='latin-1')\n",
    "\n",
    "datos_cali = 'Cali'\n",
    "datos_ideam_cali = 'IDEAM'\n",
    "ruta_serie_cali_ideam= os.path.join(ruta_entrada,datos_cali,datos_ideam_cali+'.csv')\n",
    "ideam_cali= pd.read_csv(ruta_serie_cali_ideam, sep = ';',\n",
    "                encoding='latin-1')\n",
    "datos_nrel_cali = 'NREL'\n",
    "ruta_serie_cali_nrel= os.path.join(ruta_entrada,datos_cali,datos_nrel_cali+'.csv')\n",
    "nrel_cali= pd.read_csv(ruta_serie_cali_nrel, sep = ';',\n",
    "                encoding='latin-1')\n",
    "\n",
    "datos_barranquilla = 'Barranquilla'\n",
    "datos_ideam_barranquilla = 'IDEAM'\n",
    "ruta_serie_barranquilla_ideam= os.path.join(ruta_entrada,datos_barranquilla,datos_ideam_barranquilla+'.csv')\n",
    "ideam_barranquilla= pd.read_csv(ruta_serie_barranquilla_ideam, sep = ';',\n",
    "                encoding='latin-1')\n",
    "datos_nrel_barranquilla = 'NREL'\n",
    "ruta_serie_barranquilla_nrel= os.path.join(ruta_entrada,datos_barranquilla,datos_nrel_barranquilla+'.csv')\n",
    "nrel_barranquilla= pd.read_csv(ruta_serie_barranquilla_nrel, sep = ';',\n",
    "                encoding='latin-1')"
   ]
  },
  {
   "cell_type": "markdown",
   "metadata": {},
   "source": [
    "## Punto 1"
   ]
  },
  {
   "cell_type": "code",
   "execution_count": 88,
   "metadata": {
    "collapsed": true
   },
   "outputs": [],
   "source": [
    "def GHIprom(serie_horaria):  #Entrada es una serie en resolución horaria, retorna DataFrame de promedios diarios mensuales\n",
    "    agnos=sorted(serie_horaria['AÑO'].unique())\n",
    "    ghi_df=pd.DataFrame(columns=[\"AÑO\",\"MES\",\"DIAS\",\"GHImes\"])\n",
    "    energia = list(serie_horaria)[-1]\n",
    "    for agno in agnos:\n",
    "        for mes in range(1,13):\n",
    "            dias = sorted(serie_horaria[(serie_horaria['AÑO'] == agno) &\n",
    "                        (serie_horaria['MES'] == mes)][\"DIA\"].unique())\n",
    "            ghi_mes = serie_horaria.loc[((serie_horaria[\"AÑO\"] == agno)\n",
    "                            & (serie_horaria[\"MES\"] == mes)),\n",
    "                                        energia].sum()/1000\n",
    "            ghi_dict = {\"AÑO\":agno, \"MES\":mes, \"DIAS\":dias[-1],\n",
    "                        \"GHImes\":ghi_mes}\n",
    "            ghi_df = ghi_df.append(ghi_dict, ignore_index=True)\n",
    "        \n",
    "        \n",
    "    agnos2=sorted(ghi_df['AÑO'].unique())\n",
    "    df_dias=pd.DataFrame(columns=[\"AÑO\",\"MES\",\"GHIdia\"])\n",
    "    for agno in agnos2:\n",
    "        for mes in range(1,13):\n",
    "            dia=ghi_df.loc[((ghi_df['AÑO']==agno) &\n",
    "                                   (ghi_df['MES']==mes)),'DIAS'].item()\n",
    "            ghi_diario=ghi_df.loc[((ghi_df['AÑO']==agno) & \n",
    "                                          (ghi_df['MES']==mes)),'GHImes'].item()/dia\n",
    "            ghi_dict = {'AÑO':agno,'MES':mes,'GHIdia':ghi_diario}\n",
    "            df_dias=df_dias.append(ghi_dict,ignore_index=True)\n",
    "            \n",
    "    return df_dias\n",
    "\n",
    "def ENFICC(serie): #Calcula la ENFICC 99% del DataFrame determinado en la función anterior\n",
    "    ENFICC=serie.quantile(0.01,numeric_only=True)['GHIdia']\n",
    "    \n",
    "    return print('La ENFICC 99% es', ENFICC)"
   ]
  },
  {
   "cell_type": "markdown",
   "metadata": {},
   "source": [
    "## Punto 2"
   ]
  },
  {
   "cell_type": "code",
   "execution_count": 114,
   "metadata": {
    "collapsed": true
   },
   "outputs": [],
   "source": [
    "def graficas(serie_ideam,serie_corregida,serie_NREL): #Entra serie ideam, serie corregida y serie nrel con promedio diario mensual\n",
    "    serie_ideam=sorted(serie_ideam[\"GHIdia\"])\n",
    "    serie_corregida=sorted(serie_corregida[\"GHIdia\"])\n",
    "    serie_NREL=sorted(serie_NREL[\"GHIdia\"])\n",
    "    x1=list(range(len(serie_ideam)))\n",
    "    x2=list(range(len(serie_corregida)))\n",
    "    x3=list(range(len(serie_NREL)))\n",
    "    plt.plot(x1,serie_ideam/serie_ideam[0],'r',label='IDEAM')\n",
    "    plt.plot(x2,serie_corregida/serie_corregida[-1],'b',label='corregida')\n",
    "    plt.plot(x3,serie_NREL/serie_NREL[-1],'g',label='NREL')\n",
    "    plt.xlabel('datos')\n",
    "    plt.ylabel('Energía/Energía base ideam')\n",
    "    plt.legend()\n",
    "    return plt.show()"
   ]
  },
  {
   "cell_type": "markdown",
   "metadata": {},
   "source": [
    "## Punto 3"
   ]
  },
  {
   "cell_type": "code",
   "execution_count": 10,
   "metadata": {
    "collapsed": true
   },
   "outputs": [],
   "source": [
    "def MCP(serie_corta,serie_larga): #Entra una serie de corto tiempo y una serie de referencia de duración completa.\n",
    "    ghi_obj=serie_corta['IDEAM'].mean()\n",
    "    sigma_obj=serie_corta['IDEAM'].std()\n",
    "    serie_larga_comun=serie_larga[(serie_larga['AÑO']>=(serie_corta.iloc[0,0])) & (serie_larga['AÑO']<=(serie_corta.iloc[-1,0])) \n",
    "                                  &(serie_larga['MES']>=(serie_corta.iloc[0,1])) & (serie_larga['MES']<=(serie_corta.iloc[-1,1])) ]\n",
    "    ghi_ref=serie_larga_comun['NREL'].mean()\n",
    "    sigma_ref=serie_larga_comun['NREL'].std()\n",
    "    ghi_i=(ghi_obj-(sigma_obj/sigma_ref)*ghi_ref)+(sigma_obj/sigma_ref)*serie_larga['NREL']\n",
    "    ghi_i[ghi_i<0]=0\n",
    "    serie_larga['NREL']=ghi_i\n",
    "    return serie_larga #Retorna serie con datos GHI ajustados"
   ]
  },
  {
   "cell_type": "markdown",
   "metadata": {},
   "source": [
    "## Punto 4"
   ]
  },
  {
   "cell_type": "markdown",
   "metadata": {},
   "source": [
    "#### MBE"
   ]
  },
  {
   "cell_type": "code",
   "execution_count": 115,
   "metadata": {
    "collapsed": true
   },
   "outputs": [],
   "source": [
    "def MBE(serie_mod,serie_obs): #Entra serie corregida o nrel, y serie ideam\n",
    "    ghi_mod=sorted(serie_mod['GHIdia'])\n",
    "    ghi_obs=sorted(serie_obs['GHIdia'])\n",
    "    ghi_mod=ghi_mod[:len(ghi_obs)]\n",
    "    suma1=sum(ghi_mod)\n",
    "    suma2=sum(ghi_obs)\n",
    "    error=suma1-suma2\n",
    "    resultado=error/suma2\n",
    "    return print('El MBE es:',\"{:.2%}\".format(resultado) )"
   ]
  },
  {
   "cell_type": "markdown",
   "metadata": {},
   "source": [
    "#### RMSE"
   ]
  },
  {
   "cell_type": "code",
   "execution_count": 12,
   "metadata": {
    "collapsed": true
   },
   "outputs": [],
   "source": [
    "def RMSE2(serie_mod,serie_obs): #Entra serie corregida o nrel, y serie ideam\n",
    "    ghi_mod=sorted(serie_mod['GHIdia'])\n",
    "    ghi_obs=sorted(serie_obs['GHIdia'])\n",
    "    ghi_mod=ghi_mod[:len(ghi_obs)]\n",
    "    suma1=sum(ghi_mod)\n",
    "    suma2=sum(ghi_obs)\n",
    "    ##PENDIENTE\n",
    "    return print('El RMSE es:',\"{:.2%}\".format(resultado) )"
   ]
  },
  {
   "cell_type": "markdown",
   "metadata": {
    "collapsed": true
   },
   "source": [
    "#### PVALUE"
   ]
  },
  {
   "cell_type": "code",
   "execution_count": 13,
   "metadata": {
    "collapsed": true
   },
   "outputs": [],
   "source": [
    "def KSI(serie_mod,serie_obs):\n",
    "    serie_mod2=serie_mod[(serie_mod['AÑO'] >=serie_obs.iloc[0,0]) &(serie_mod['AÑO']<=serie_obs.iloc[-1,0])]\n",
    "    error=sp.stats.ks_2samp(serie_mod2['IDEAM'],serie_obs['NREL'])\n",
    "    return print('El pvalue es:',error[-1])"
   ]
  },
  {
   "cell_type": "markdown",
   "metadata": {},
   "source": [
    "# Análisis"
   ]
  },
  {
   "cell_type": "code",
   "execution_count": 117,
   "metadata": {
    "collapsed": true
   },
   "outputs": [],
   "source": [
    "corta=ideam_valledupar[(ideam_valledupar['AÑO']==2010)]\n",
    "serie_corregida=MCP(corta,nrel_valledupar)\n",
    "corregida_prom=GHIprom(serie_corregida)\n",
    "ideam_prom=GHIprom(ideam_valledupar)\n",
    "nrel_prom=GHIprom(nrel_valledupar)"
   ]
  },
  {
   "cell_type": "code",
   "execution_count": null,
   "metadata": {
    "collapsed": true
   },
   "outputs": [],
   "source": [
    "def RMSE(serie_mod,serie_obs): #Entra serie corregida o nrel, y serie ideam\n",
    "    serie_mod2=serie_mod[(serie_mod['AÑO'] >=serie_obs.iloc[0,0]) &(serie_mod['AÑO']<=serie_obs.iloc[-1,0])]\n",
    "    error=0\n",
    "    for i in range(0,len(serie_obs)):\n",
    "        resta=(serie_obs.iloc[i,4]-serie_mod2.iloc[i,4])**2\n",
    "        error=error+resta\n",
    "    error=math.sqrt(error/len(serie_obs))\n",
    "    resultado=error/(serie_obs['IDEAM'][serie_obs['IDEAM'].idxmax()]-serie_obs['IDEAM'][serie_obs['IDEAM'].idxmin()])\n",
    "    return print('El RMSE es:',\"{:.2%}\".format(resultado) )"
   ]
  },
  {
   "cell_type": "code",
   "execution_count": 118,
   "metadata": {},
   "outputs": [
    {
     "name": "stdout",
     "output_type": "stream",
     "text": [
      "El MBE es: -2.55%\n"
     ]
    }
   ],
   "source": [
    "MBE(corregida_prom,ideam_prom)"
   ]
  },
  {
   "cell_type": "code",
   "execution_count": null,
   "metadata": {
    "collapsed": true
   },
   "outputs": [],
   "source": []
  }
 ],
 "metadata": {
  "kernelspec": {
   "display_name": "Python 3",
   "language": "python",
   "name": "python3"
  },
  "language_info": {
   "codemirror_mode": {
    "name": "ipython",
    "version": 3
   },
   "file_extension": ".py",
   "mimetype": "text/x-python",
   "name": "python",
   "nbconvert_exporter": "python",
   "pygments_lexer": "ipython3",
   "version": "3.6.3"
  }
 },
 "nbformat": 4,
 "nbformat_minor": 2
}
