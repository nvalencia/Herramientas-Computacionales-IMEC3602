{
 "cells": [
  {
   "cell_type": "code",
   "execution_count": 95,
   "metadata": {
    "collapsed": true
   },
   "outputs": [],
   "source": [
    "import numpy as np\n",
    "import scipy as sp\n",
    "import matplotlib.pyplot as plt"
   ]
  },
  {
   "cell_type": "code",
   "execution_count": 96,
   "metadata": {
    "collapsed": true
   },
   "outputs": [],
   "source": [
    "gama=np.array([50,70,90,110,130]) #datos de rata\n",
    "tao_experimental=np.array([6.01,7.48,8.59,9.19,10.21]) #datos de esfuerzo"
   ]
  },
  {
   "cell_type": "code",
   "execution_count": 97,
   "metadata": {},
   "outputs": [],
   "source": [
    "(a,b)=sp.polyfit(gama,tao,1) #polyfit encuentra a y b tales que y=a*gama+b que mejor se ajusta a los datos\n",
    "tao_ajuste=sp.polyval([a,b],gama) #polyval me evalùa, con los parámetros a y b, los valores de gama\n",
    "error=np.sqrt(sum((tao_ajuste-tao_experimental)**2)/tao_ajuste.size) #saco el error cuadratico medio entre el valor real de tao y el obtenido con la curva"
   ]
  },
  {
   "cell_type": "code",
   "execution_count": 98,
   "metadata": {},
   "outputs": [
    {
     "name": "stdout",
     "output_type": "stream",
     "text": [
      "parameters: a=0.051 b=3.747 error=0.210\n"
     ]
    }
   ],
   "source": [
    "print('parameters: a=%.3f b=%.3f error=%.3f' %(a,b,error)) #impresión de parámetros obtenidos"
   ]
  },
  {
   "cell_type": "code",
   "execution_count": 99,
   "metadata": {
    "collapsed": true
   },
   "outputs": [],
   "source": [
    "t=np.linspace(gama[0],gama[-1]) #vector con datos de x (gama) para ser graficados"
   ]
  },
  {
   "cell_type": "code",
   "execution_count": 100,
   "metadata": {},
   "outputs": [],
   "source": [
    "modelo=sp.polyval([a,b],t) # datos de y (tao modelo)"
   ]
  },
  {
   "cell_type": "code",
   "execution_count": 101,
   "metadata": {},
   "outputs": [
    {
     "data": {
      "image/png": "[encoded data removed]",
      "text/plain": [
       "<matplotlib.figure.Figure at 0x151823dcf8>"
      ]
     },
     "metadata": {},
     "output_type": "display_data"
    }
   ],
   "source": [
    "plt.plot(gama,tao_experimental,'*k')  #Graficación\n",
    "plt.plot(t,modelo,'r')\n",
    "plt.ylabel('$\\\\tau$')\n",
    "plt.xlabel('$\\dot{\\gamma}$')\n",
    "plt.show()"
   ]
  },
  {
   "cell_type": "code",
   "execution_count": 104,
   "metadata": {
    "collapsed": true
   },
   "outputs": [],
   "source": [
    "from scipy.optimize import curve_fit"
   ]
  },
  {
   "cell_type": "code",
   "execution_count": 105,
   "metadata": {
    "collapsed": true
   },
   "outputs": [],
   "source": [
    "def ecuacion(x,mu,n):  #definición de funcion que será introducida en curve fit\n",
    "    return mu*x**n\n",
    "    "
   ]
  },
  {
   "cell_type": "code",
   "execution_count": 129,
   "metadata": {},
   "outputs": [],
   "source": [
    "popt,pcov=curve_fit(ecuacion,gama,tao_experimental) #popt son los valores optimos, pcov es la covarianza de estos \n",
    "error2=np.sqrt(sum(ecuacion(gama,*popt)-tao_experimental)**2/gama.size) # *popt toma todos los valores del arreglo popt"
   ]
  },
  {
   "cell_type": "code",
   "execution_count": 130,
   "metadata": {},
   "outputs": [
    {
     "name": "stdout",
     "output_type": "stream",
     "text": [
      "parámetros: mu=0.776 n=0.530 error=0.003\n"
     ]
    }
   ],
   "source": [
    "print('parámetros: mu=%.3f n=%.3f error=%.3f'%(popt[0],popt[1],error2))"
   ]
  },
  {
   "cell_type": "code",
   "execution_count": 145,
   "metadata": {},
   "outputs": [
    {
     "data": {
      "image/png": "[encoded data removed]",
      "text/plain": [
       "<matplotlib.figure.Figure at 0x1517bfd080>"
      ]
     },
     "metadata": {},
     "output_type": "display_data"
    }
   ],
   "source": [
    "plt.plot(gama,tao_experimental,'*k')\n",
    "plt.plot(t,ecuacion(t,*popt),'g',label='$\\mu$=%.3f n=%.3f' %tuple(popt))\n",
    "plt.ylabel('$\\\\tau$')\n",
    "plt.xlabel('$\\dot{\\gamma}$')\n",
    "plt.legend()\n",
    "plt.show()\n"
   ]
  },
  {
   "cell_type": "code",
   "execution_count": null,
   "metadata": {
    "collapsed": true
   },
   "outputs": [],
   "source": []
  }
 ],
 "metadata": {
  "kernelspec": {
   "display_name": "Python 3",
   "language": "python",
   "name": "python3"
  },
  "language_info": {
   "codemirror_mode": {
    "name": "ipython",
    "version": 3
   },
   "file_extension": ".py",
   "mimetype": "text/x-python",
   "name": "python",
   "nbconvert_exporter": "python",
   "pygments_lexer": "ipython3",
   "version": "3.6.3"
  }
 },
 "nbformat": 4,
 "nbformat_minor": 2
}
