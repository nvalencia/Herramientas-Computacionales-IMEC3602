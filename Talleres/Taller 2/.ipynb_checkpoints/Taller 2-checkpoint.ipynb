{
 "cells": [
  {
   "cell_type": "markdown",
   "metadata": {},
   "source": [
    "# Taller 2"
   ]
  },
  {
   "cell_type": "code",
   "execution_count": 64,
   "metadata": {},
   "outputs": [
    {
     "name": "stdout",
     "output_type": "stream",
     "text": [
      "Populating the interactive namespace from numpy and matplotlib\n"
     ]
    }
   ],
   "source": [
    "%pylab inline\n",
    "from scipy.integrate import odeint\n",
    "import matplotlib.pyplot as plt\n",
    "#Importación de librerias de scipy y matplotlib"
   ]
  },
  {
   "cell_type": "markdown",
   "metadata": {},
   "source": [
    "### Datos relevantes del kart:"
   ]
  },
  {
   "cell_type": "code",
   "execution_count": 65,
   "metadata": {
    "collapsed": true
   },
   "outputs": [],
   "source": [
    "rho=1.1955 #Densidad del aire\n",
    "ald=0.975 # Distancia entre ejes de llantas delanteras (m)\n",
    "alj=0.88 # Altura con el piloto sentado en el kart (si estatura del piloto es de 1.68 m) (m)\n",
    "Af=ald*alj #Area frontal del kart\n",
    "Cd=0.89 #Coeficiente de arrastre\n",
    "dp=11.0 # Dientes del piñon\n",
    "dpl=39.0 # Dientes del plato\n",
    "ng=dpl/dp # Relación de Transmisión\n",
    "eta=0.95 #Eficiencia de la transmisión\n",
    "\n",
    "\n",
    "Ie=5.2E-3 # Inercia del motor (kg m^2)\n",
    "\n",
    "#Datos llantas\n",
    "mfw=1.43 # Masa llantas traseras (kg)\n",
    "mrw=1.20 # Masa llantas delanteras (kg)\n",
    "rfw=0.129 # Radio llantas delanteras (m)\n",
    "rinf=0.0631 # Radio rin llantas delanteras (m)\n",
    "rrw=0.139 # Radio geométrico de las llantas en traseras (m)\n",
    "rinr=0.0631 #radio rin llanta trasera (m)\n",
    "refc=0.98*rrw # Radio efectivo llantas traseras (m)\n",
    "mbt=0.7*mrw # El porcentaje de la masa total que pesa la parte \"banda\" de la llanta trasera\n",
    "mdt=0.3*mrw # El porcentaje de la masa total que pesa la parte \"disco\" de la llanta trasera\n",
    "mbd=0.7*mfw # El porcentaje de la masa total que pesa la parte \"banda\" de la llanta delantera\n",
    "mdd=0.3*mfw # El porcentaje de la masa total que pesa la parte \"disco\" de la llanta delantera\n",
    "Ifw=(mbd*rfw)+(mdd*(rfw**2-rinf**2))/2 # Inercia 1 llanta delantera (kg-m^2)\n",
    "Irw=(mbt*rrw)+(mdt*(rrw**2-rinr**2))/2 # Inercia 1 llanta trasera (kg-m^2)\n",
    "\n",
    "# Datos eje llantas\n",
    "reje=0.02 # Radio eje de las llantas (m)\n",
    "meje=3.832 # Masa del eje (kg)\n",
    "Ieje=(meje*reje**2)/2.0 # Inercia del eje de las llantas (kg-m^2)\n",
    "\n",
    "\n",
    "# Datos Kart general\n",
    "masa=152.0 # masa del Kart (kg)\n",
    "masa_piloto=62 #(kg)\n",
    "masat=masa+masa_piloto\n",
    "g=9.81 # Gravedad (m/s)\n",
    "w=masa*g # peso del Kart (N)\n",
    "Tf=17 #Torque al aplicar freno(Nm) \n",
    "\n",
    "# Variables de tiempo para aceleración\n",
    "t_in=0\n",
    "t_fin=50\n",
    "deltat=1000\n",
    "t=linspace(t_in,t_fin,deltat)\n",
    "\n",
    "# condiciones iniciales de aceleración\n",
    "x_0=0\n",
    "v_0=0.01\n",
    "c_ini=[x_0,v_0]"
   ]
  },
  {
   "cell_type": "markdown",
   "metadata": {},
   "source": [
    "## Requerimiento 2"
   ]
  },
  {
   "cell_type": "code",
   "execution_count": 72,
   "metadata": {
    "collapsed": true
   },
   "outputs": [],
   "source": [
    "def torque(w): #Le entra velocidad angular en rpm. Se realiza el ajuste a los datos iniciales de torque para no tener discontinuidades\n",
    "    P=((-0.00000004564538677*w**3)+(0.0001056995459*w**2)\n",
    "                  +(1.53209191*w))-1.895523696\n",
    "    T=P/(w*2*pi/60)\n",
    "    if size(w)>1:\n",
    "        for i in range(size(w)):\n",
    "            if w[i]<50:\n",
    "                T[i]=14.31775979799432\n",
    "            if T[i]>38: #limitación de torque máximo del motor\n",
    "                T[i]=38\n",
    "    if size(w)==1:\n",
    "        if T>38:\n",
    "            T=38\n",
    "    \n",
    "    return T\n",
    "    "
   ]
  },
  {
   "cell_type": "markdown",
   "metadata": {},
   "source": [
    "## Funciones utilizadas"
   ]
  },
  {
   "cell_type": "code",
   "execution_count": 73,
   "metadata": {
    "collapsed": true
   },
   "outputs": [],
   "source": [
    "def arrastre(V): #Cálculo de fuerza de arrastre, dependiente de la velocidad.\n",
    "    Fd=0.5*rho*Af*Cd*V**2\n",
    "    return Fd\n",
    "\n",
    "def omega(V): #Cálculo de la velocidad angular. Se límita a 5000 por el motor. Se retorna en RPM.\n",
    "    w=(V*ng/refc)*60/(2*pi)\n",
    "    if w>=5000:\n",
    "        w=5000\n",
    "    return w\n",
    "\n",
    "def frodadura_const(V,w):\n",
    "    fr=0.01*(1+(V/100.0)) # Factor de rodadura. La velocidad del kart debe estar en (km/h)\n",
    "    return w*2*pi/60*fr # (N)\n",
    "\n",
    "def ftraccion(T): #cálculo de fuerza de tracción\n",
    "    return T*ng*eta/refc\n",
    "\n",
    "def masa_eq_r(Ie): #Cálculo de masa equivalente \n",
    "    meq=((Ie*ng**2)+Ieje+Ifw*2+Irw*2)/refc**2\n",
    "    return meq\n",
    "\n",
    "def aceleraciongrafica(w): #graficación de aceleración\n",
    "    v=w*refc/ng*2*pi/60\n",
    "    frod = frodadura_const(v*3.6,w)\n",
    "    farr = arrastre(v)\n",
    "    T=torque(w)\n",
    "    acel=(ftraccion(T)-frod-farr)/(masa_eq_r(Ie)+masat)\n",
    "    plt.plot(w,acel)\n",
    "    plt.xlabel('Velocidad angular (RPM)')\n",
    "    plt.ylabel('Aceleración (m/s)')\n",
    "    \n",
    "    return plt.show()\n",
    "\n",
    "def graficaposicion(tacel,solucionacel,tdes,soluciondes):      #Gráfica de posición. Le entra tiempo de aceleración,\n",
    "    plt.plot(tacel,solucionacel[:,0],'b',label='Posición (m)')    #solución de de odeint de aceleracion, tiempo de desaceleracion\n",
    "    plt.plot(tdes,soluciondes,'b')                                 # y solución de desaceleración.\n",
    "    plt.xlabel('Tiempo (s)')\n",
    "    plt.ylabel('posición (m)')\n",
    "    plt.grid()\n",
    "    return plt.show()\n",
    "\n",
    "def graficavelocidad(tacel,solucionacel,tdes,soluciondes):\n",
    "    plt.plot(tacel,solucionacel[:,1],'g',label='Posición (m)')\n",
    "    plt.plot(tdes,soluciondes,'g')\n",
    "    plt.xlabel('Tiempo (s)')\n",
    "    plt.ylabel('velocidad (m/s)')\n",
    "    plt.grid()\n",
    "    return plt.show()\n",
    "\n",
    "def aceleracion(y,t0):\n",
    "    x,v = y\n",
    "    vel_motor= omega(v)\n",
    "    frod = frodadura_const(v*3.6,vel_motor)\n",
    "    farr = arrastre(v)\n",
    "    T=torque(vel_motor)\n",
    "    dydt=[v,(ftraccion(T)-frod-farr)/(masa_eq_r(Ie)+masat)]\n",
    "    return dydt\n",
    "\n",
    "def desaceleracion(y,t0):\n",
    "    x,v = y\n",
    "    vel_motor= omega(v)\n",
    "    frod = frodadura_const(v*3.6,vel_motor)\n",
    "    farr = arrastre(v)\n",
    "    T=torque(vel_motor)\n",
    "    dydt=[v,(-Tf/refc-frod-farr)/(masa_eq_r(Ie)+masat)]\n",
    "    return dydt "
   ]
  },
  {
   "cell_type": "code",
   "execution_count": 52,
   "metadata": {
    "collapsed": true
   },
   "outputs": [],
   "source": [
    "sol=odeint(aceleracion,c_ini,t)"
   ]
  },
  {
   "cell_type": "code",
   "execution_count": 53,
   "metadata": {},
   "outputs": [
    {
     "data": {
      "image/png": "[encoded data removed]",
      "text/plain": [
       "<matplotlib.figure.Figure at 0x151c45ecc0>"
      ]
     },
     "metadata": {},
     "output_type": "display_data"
    }
   ],
   "source": [
    "plt.plot(t, sol[:,0], 'b', label='posición(t)')\n",
    "plt.plot(t, sol[:, 1], 'g', label='velocidad(t)')\n",
    "plt.xlabel('tiempo(s)')\n",
    "plt.legend(loc='best')\n",
    "plt.grid()\n",
    "plt.show()"
   ]
  },
  {
   "cell_type": "code",
   "execution_count": 54,
   "metadata": {
    "collapsed": true
   },
   "outputs": [],
   "source": [
    "v_1=max(sol[:,1])  #velocidad máxima aproximada del kart en m/s. Se asume que es la última posición, donde ya se ha estabilizado.\n",
    "x_1=sol[999,0] #Obtención de posición donde se llega a a velocidad máxima.\n",
    "c_ini2=[x_1,v_1]  # condiciones iniciales para desaceleración."
   ]
  },
  {
   "cell_type": "code",
   "execution_count": 51,
   "metadata": {
    "collapsed": true
   },
   "outputs": [],
   "source": [
    "def aceleracion(y,t0):\n",
    "    x,v = y\n",
    "    vel_motor= omega(v)\n",
    "    frod = frodadura_const(v*3.6,vel_motor)\n",
    "    farr = arrastre(v)\n",
    "    T=torque(vel_motor)\n",
    "    dydt=[v,(ftraccion(T)-frod-farr)/(masa_eq_r(Ie)+masat)]\n",
    "    return dydt "
   ]
  },
  {
   "cell_type": "code",
   "execution_count": 56,
   "metadata": {
    "collapsed": true
   },
   "outputs": [],
   "source": [
    "t_des=linspace(t_fin,100)"
   ]
  },
  {
   "cell_type": "code",
   "execution_count": 57,
   "metadata": {},
   "outputs": [],
   "source": [
    "sol2=odeint(desaceleracion,c_ini2,t_des)"
   ]
  },
  {
   "cell_type": "code",
   "execution_count": 58,
   "metadata": {},
   "outputs": [],
   "source": [
    "frenado=sol2[:,1][sol2[:,1]>0]\n",
    "posicionfreno=sol2[:,0][0:size(frenado)]\n",
    "tiempofrenado=t_des[0:size(frenado)]"
   ]
  },
  {
   "cell_type": "code",
   "execution_count": 55,
   "metadata": {
    "collapsed": true
   },
   "outputs": [],
   "source": [
    "def desaceleracion(y,t0):\n",
    "    x,v = y\n",
    "    vel_motor= omega(v)\n",
    "    frod = frodadura_const(v*3.6,vel_motor)\n",
    "    farr = arrastre(v)\n",
    "    T=torque(vel_motor)\n",
    "    dydt=[v,(-Tf/refc-frod-farr)/(masa_eq_r(Ie)+masat)]\n",
    "    return dydt "
   ]
  },
  {
   "cell_type": "code",
   "execution_count": 59,
   "metadata": {},
   "outputs": [
    {
     "data": {
      "image/png": "[encoded data removed]",
      "text/plain": [
       "<matplotlib.figure.Figure at 0x151c0a0978>"
      ]
     },
     "metadata": {},
     "output_type": "display_data"
    }
   ],
   "source": [
    "plt.plot(tiempofrenado, posicionfreno, 'b', label='posición(t)')\n",
    "plt.plot(tiempofrenado, frenado, 'g', label='velocidad(t)')\n",
    "plt.xlabel('tiempo(s)')\n",
    "plt.legend(loc='best')\n",
    "plt.grid()\n",
    "plt.show()"
   ]
  },
  {
   "cell_type": "code",
   "execution_count": null,
   "metadata": {
    "collapsed": true
   },
   "outputs": [],
   "source": []
  },
  {
   "cell_type": "code",
   "execution_count": 60,
   "metadata": {},
   "outputs": [
    {
     "data": {
      "image/png": "[encoded data removed]",
      "text/plain": [
       "<matplotlib.figure.Figure at 0x151c0a0b70>"
      ]
     },
     "metadata": {},
     "output_type": "display_data"
    }
   ],
   "source": [
    "plt.plot(t,sol[:,0],'b',label='Posición (m)')\n",
    "plt.plot(t,sol[:,1],'g',label='Velocidad (m/s)')\n",
    "plt.plot(tiempofrenado,posicionfreno,'b')\n",
    "plt.legend(loc='best')\n",
    "plt.plot(tiempofrenado,frenado,'g')\n",
    "plt.show()"
   ]
  },
  {
   "cell_type": "code",
   "execution_count": 70,
   "metadata": {
    "collapsed": true
   },
   "outputs": [],
   "source": [
    "b=linspace(1,5000,1000)"
   ]
  },
  {
   "cell_type": "code",
   "execution_count": 74,
   "metadata": {},
   "outputs": [
    {
     "data": {
      "image/png": "[encoded data removed]",
      "text/plain": [
       "<matplotlib.figure.Figure at 0x151bead550>"
      ]
     },
     "metadata": {},
     "output_type": "display_data"
    }
   ],
   "source": [
    "aceleraciongrafica(b)"
   ]
  }
 ],
 "metadata": {
  "kernelspec": {
   "display_name": "Python 3",
   "language": "python",
   "name": "python3"
  },
  "language_info": {
   "codemirror_mode": {
    "name": "ipython",
    "version": 3
   },
   "file_extension": ".py",
   "mimetype": "text/x-python",
   "name": "python",
   "nbconvert_exporter": "python",
   "pygments_lexer": "ipython3",
   "version": "3.6.3"
  }
 },
 "nbformat": 4,
 "nbformat_minor": 2
}
