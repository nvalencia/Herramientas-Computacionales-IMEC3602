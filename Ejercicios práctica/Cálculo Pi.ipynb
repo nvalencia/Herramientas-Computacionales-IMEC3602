{
 "cells": [
  {
   "cell_type": "code",
   "execution_count": 10,
   "metadata": {
    "collapsed": true
   },
   "outputs": [],
   "source": [
    "import numpy as np #importación de libreria de matrices"
   ]
  },
  {
   "cell_type": "code",
   "execution_count": 11,
   "metadata": {
    "collapsed": true
   },
   "outputs": [],
   "source": [
    "import math as mt #importación de libreria de matemáticas"
   ]
  },
  {
   "cell_type": "code",
   "execution_count": 12,
   "metadata": {
    "collapsed": true
   },
   "outputs": [],
   "source": [
    "import random #random permite generar números aleatorios"
   ]
  },
  {
   "cell_type": "code",
   "execution_count": 20,
   "metadata": {
    "collapsed": true
   },
   "outputs": [],
   "source": [
    "import matplotlib.pyplot as mp #importación de libreria que permite generar gráficas"
   ]
  },
  {
   "cell_type": "code",
   "execution_count": 21,
   "metadata": {
    "collapsed": true
   },
   "outputs": [],
   "source": [
    "N=9000 #número de puntos. Entre más puntos, mejor es el cálculo de pi. Se toma 9000 para no tomar demasiada capacidad computacional."
   ]
  },
  {
   "cell_type": "code",
   "execution_count": 22,
   "metadata": {
    "collapsed": true
   },
   "outputs": [],
   "source": [
    "v0=np.linspace(1,N,N) # creación de vector de cada una de las veces que se realiza un cálculo de P(N). Este es el eje x"
   ]
  },
  {
   "cell_type": "code",
   "execution_count": 23,
   "metadata": {
    "collapsed": true
   },
   "outputs": [],
   "source": [
    "v1=np.zeros((N,1)) #Creación de vector de ceros, el cual será llenado con P(N)-pi/4, siendo este el eje y"
   ]
  },
  {
   "cell_type": "code",
   "execution_count": 24,
   "metadata": {
    "collapsed": true
   },
   "outputs": [],
   "source": [
    "exito=0 #contador de cuantos puntos están dentro del circulo"
   ]
  },
  {
   "cell_type": "code",
   "execution_count": 25,
   "metadata": {},
   "outputs": [],
   "source": [
    "for i in range(N): #El \"for i\" permite que se genere un vector de puntos cada vez mayor. Para cada vector de i filas, el \"for j\" recorre cada una de estas filas, determinando, a través de la conidición de f<0, si está en el círculo. Entonces, se tiene un exito. Se calcula P(N) como el número de exitos entre el total de puntos. A P(N) se le resta pi/4 y se asigna su posición a v1. Se resetea el contador de exitos y se repite el proceso para i+1 \n",
    "    x=-1+(1+1)*np.random.random((i, 2))\n",
    "    for j in range(i):\n",
    "        x0=x[j,0]\n",
    "        y0=x[j,1]\n",
    "        f=mt.pow(x0,2)+mt.pow(y0,2)-1\n",
    "        if f<0:\n",
    "            exito=exito+1\n",
    "    P=exito/(i+1)\n",
    "    y=P-np.pi/4\n",
    "    v1[i,0]=y\n",
    "    exito=0"
   ]
  },
  {
   "cell_type": "code",
   "execution_count": 26,
   "metadata": {},
   "outputs": [
    {
     "name": "stdout",
     "output_type": "stream",
     "text": [
      "3.14488888889\n"
     ]
    }
   ],
   "source": [
    "pi=(v1[N-1,0]+np.pi/4)*4 #se toma el último valor del vector v1, el cual es el que se determinó con la mayor cantidad de filas i, se suma pi/4 y se multiplica por 4, de lo cual se obtiene el cálculo de pi.\n",
    "print(pi)"
   ]
  },
  {
   "cell_type": "code",
   "execution_count": 31,
   "metadata": {},
   "outputs": [
    {
     "data": {
      "image/png": "[encoded data removed]",
      "text/plain": [
       "<matplotlib.figure.Figure at 0x11caab438>"
      ]
     },
     "metadata": {},
     "output_type": "display_data"
    },
    {
     "data": {
      "text/plain": [
       "Text(0.5,1,'Convergencia de datos')"
      ]
     },
     "execution_count": 31,
     "metadata": {},
     "output_type": "execute_result"
    }
   ],
   "source": [
    "z=mp.plot(v0,v1) # se crea la gráfica con sus respectivos ejes. Se escalan a 'log' y se le insertan títulos.\n",
    "mp.show(z)\n",
    "mp.xscale('log')\n",
    "mp.xlabel(\"Número de puntos\")\n",
    "mp.ylabel(\"P(N)-pi/4\")\n",
    "mp.yscale('log')\n",
    "mp.title(\"Convergencia de datos\")"
   ]
  },
  {
   "cell_type": "code",
   "execution_count": null,
   "metadata": {
    "collapsed": true
   },
   "outputs": [],
   "source": []
  },
  {
   "cell_type": "code",
   "execution_count": null,
   "metadata": {
    "collapsed": true
   },
   "outputs": [],
   "source": []
  }
 ],
 "metadata": {
  "kernelspec": {
   "display_name": "Python 3",
   "language": "python",
   "name": "python3"
  },
  "language_info": {
   "codemirror_mode": {
    "name": "ipython",
    "version": 3
   },
   "file_extension": ".py",
   "mimetype": "text/x-python",
   "name": "python",
   "nbconvert_exporter": "python",
   "pygments_lexer": "ipython3",
   "version": "3.6.3"
  }
 },
 "nbformat": 4,
 "nbformat_minor": 2
}
