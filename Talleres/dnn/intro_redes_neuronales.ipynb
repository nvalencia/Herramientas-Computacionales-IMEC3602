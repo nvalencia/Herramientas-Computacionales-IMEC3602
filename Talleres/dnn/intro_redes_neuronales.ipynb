{
 "cells": [
  {
   "cell_type": "markdown",
   "metadata": {},
   "source": [
    "# Introducción a las redes neuronales y el aprendizaje profundo\n",
    "\n",
    "Durante las últimas semanas del semestre vamos a estudiar los fundamentos de las redes neuronales y su aplicación en aprendizaje profundo. Estas notas están basadas en el curso [Neural Networks and Deep Learning](https://www.coursera.org/learn/neural-networks-deep-learning/home/welcome) y seguiré de cerca su estructura.  \n",
    "\n",
    "Un buen punto de partida para trabajar con redes neuronales es el concepto de clasificación binaria. En clasificación binaria se quiere clasificar un objeto en una de dos casillas. Por ejemplo, ¿la imagen muestra un gato? Si o no. ¿El estudiante va a perder la materia? Si o no.  \n",
    "\n",
    "Con este problema en mente, introduzcamos un poco de notación. Primero, se tienen las características mediante las cuales vamos a clasificar nuestros sujetos. Por ejemplo, en el ejemplo de un estudiante, estas características pueden ser sus notas, puntaje de admisión, género, etc. Estas características se organizan en un vector de dimensión $n_x$, definida por el número de estas características.  \n",
    "\n",
    "$$ x \\in \\Re^{n_x} $$  \n",
    "\n",
    "Ahora para cada sujeto se tiene una variable de salida $y$. En el caso de clasificación binaria se tiene que $y \\in \\{0,1\\}$. De manera sintética se tiene que un sujeto con características $x$ tiene una variable de salida $y$. En el ejemplo que estamos trabajando un estudiante con tales notas, promedio, puntaje de admisión, género, etc. ($x$), aprueba o reprueba una materia ($y$).  \n",
    "\n",
    "El objetivo que se quiere lograr es a partir de unos *datos de entrenamiento*, muchos estudiantes que hayan tomado una materia, por ejemplo, ajustar un modelo que permita predecir si un nuevo estudiante en el curso, con algunas características dadas va a aprobar o reprobar una materia. Los datos de entrenamiento son conjuntos $(x, y)$ que relacionan características de entrada y variable de salida para una serie de individuos de los que se tiene información histórica. Todos los datos de entrenamiento constituyen un conjunto de la forma  \n",
    "\n",
    "$\\{(x_1,y_1), (x_1,y_1), \\dots, (x_m,y_m)\\}$  \n",
    "\n",
    "Donde se tienen $m$ datos de entrenamiento. Para efectos de nuestros modelos, va a ser útil organizar los datos de entrenemiento en una matriz $X$ de dimensiones $(n_x,m)$ y un vector $Y$ de dimensión $m$.  \n",
    "\n",
    "Ahora vamos a hablar de regresión logística. Este es un tipo de modelo que permite relacionar una serie de datos a una salida entre 0 y 1. Dado un vector $x$, queremos conocer $\\hat{y} = P(y=1 | x)$, la probabilidad de que $y=1$ dado un $x$. Los parámetros de ajuste del modelo son $w$ (vector de la misma dimensión de $x$ y $b$, un escalar.  La salida de una regresión logística está dada por $\\hat{y} = \\sigma(w^Tx+b)$ donde $\\sigma(z) = \\frac{1}{1+e^{-z}}$ es una función sigmoide que permite llevar la salida a un valor entre 0 y 1.  \n",
    "\n",
    "Para poder utilizar el modelo, es necesario calcular los parámetros de ajuste o *entrenar* el modelo de manera que se minimice una función de costo. Para el caso de modelos logísticos, la función de costo es la suma del error para cada dato dado por:  \n",
    "\n",
    "$ \\mathcal{L}(\\hat{y},y) = -(y\\log{\\hat{y}} + (1-y)\\log{(1-\\hat{y})}) $  \n",
    "\n",
    "Y la función de costo total está dada por:\n",
    "\n",
    "$ J(w,b) = \\frac{1}{m}\\sum{\\mathcal{L}(\\hat{y}^{(i)},y^{(i)})} $  \n",
    "\n",
    "El método utilizado para calcular los parámetros que minimizar la función de costo se denomina decenso por el gradiente (*Gradient Descent*). A grandes razgos mueve los parámetros siguiendo las direcciones de mayor cambio (gradiente) hasta que encuentra un mínimo. El procedimiento genral consiste en iniciar con un valorarbitrario de los parámetros y iterativamente actualizarlos con las siguientes fórmulas hasta llegar a un valor mínimo de la función de costo.  \n",
    "\n",
    "$ w = w - \\alpha\\frac{dJ}{dw} $\n",
    "$ b = b - \\alpha\\frac{dJ}{db} $\n",
    "\n"
   ]
  },
  {
   "cell_type": "code",
   "execution_count": null,
   "metadata": {},
   "outputs": [],
   "source": []
  }
 ],
 "metadata": {
  "kernelspec": {
   "display_name": "Python 3",
   "language": "python",
   "name": "python3"
  },
  "language_info": {
   "codemirror_mode": {
    "name": "ipython",
    "version": 3
   },
   "file_extension": ".py",
   "mimetype": "text/x-python",
   "name": "python",
   "nbconvert_exporter": "python",
   "pygments_lexer": "ipython3",
   "version": "3.6.4"
  }
 },
 "nbformat": 4,
 "nbformat_minor": 2
}
