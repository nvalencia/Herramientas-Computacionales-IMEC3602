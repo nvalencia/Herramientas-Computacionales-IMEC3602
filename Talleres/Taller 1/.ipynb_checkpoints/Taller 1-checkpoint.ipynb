{
 "cells": [
  {
   "cell_type": "code",
   "execution_count": 14,
   "metadata": {
    "collapsed": true
   },
   "outputs": [],
   "source": [
    "import numpy as np\n",
    "import scipy as sp\n",
    "import matplotlib.pylab as plt\n",
    "import pandas as pd\n",
    "import os\n",
    "from scipy.stats import norm"
   ]
  },
  {
   "cell_type": "code",
   "execution_count": 15,
   "metadata": {
    "collapsed": true
   },
   "outputs": [],
   "source": [
    "ruta_entrada= os.path.join( '.','data')\n",
    "ruta_salida = os.path.join( '.','output')\n",
    "ciudad = 'Valledupar'\n",
    "fuente = 'IDEAM'\n",
    "ruta_serie= os.path.join(ruta_entrada,ciudad,fuente+'.csv')\n",
    "serie= pd.read_csv(ruta_serie, sep = ';',\n",
    "                encoding='latin-1')"
   ]
  },
  {
   "cell_type": "markdown",
   "metadata": {},
   "source": [
    "## Punto 1"
   ]
  },
  {
   "cell_type": "code",
   "execution_count": 42,
   "metadata": {
    "collapsed": true
   },
   "outputs": [],
   "source": [
    "def ENFICC(serie_horaria):  #Cálculo ENFICC 99%\n",
    "    agnos=sorted(serie_horaria['AÑO'].unique())\n",
    "    ghi_df=pd.DataFrame(columns=[\"AÑO\",\"MES\",\"DIAS\",\"GHImes\"])\n",
    "    energia = list(serie_horaria)[-1]\n",
    "    for agno in agnos:\n",
    "        for mes in range(1,13):\n",
    "            dias = sorted(serie_horaria[(serie_horaria['AÑO'] == agno) &\n",
    "                        (serie_horaria['MES'] == mes)][\"DIA\"].unique())\n",
    "            ghi_mes = serie_horaria.loc[((serie_horaria[\"AÑO\"] == agno)\n",
    "                            & (serie_horaria[\"MES\"] == mes)),\n",
    "                                        energia].sum()/1000\n",
    "            ghi_dict = {\"AÑO\":agno, \"MES\":mes, \"DIAS\":dias[-1],\n",
    "                        \"GHImes\":ghi_mes}\n",
    "            ghi_df = ghi_df.append(ghi_dict, ignore_index=True)\n",
    "        \n",
    "        \n",
    "    agnos2=sorted(ghi_df['AÑO'].unique())\n",
    "    df_dias=pd.DataFrame(columns=[\"AÑO\",\"MES\",\"GHIdia\"])\n",
    "    for agno in agnos2:\n",
    "        for mes in range(1,13):\n",
    "            dia=ghi_df.loc[((ghi_df['AÑO']==agno) &\n",
    "                                   (ghi_df['MES']==mes)),'DIAS'].item()\n",
    "            ghi_diario=ghi_df.loc[((ghi_df['AÑO']==agno) & \n",
    "                                          (ghi_df['MES']==mes)),'GHImes'].item()/dia\n",
    "            ghi_dict = {'AÑO':agno,'MES':mes,'GHIdia':ghi_diario}\n",
    "            df_dias=df_dias.append(ghi_dict,ignore_index=True)\n",
    "        \n",
    "    ENFICC=df_dias.quantile(0.01,numeric_only=True)['GHIdia']\n",
    "        \n",
    "    return print('La ENFICC 99% es', ENFICC), df_dias"
   ]
  },
  {
   "cell_type": "code",
   "execution_count": 51,
   "metadata": {},
   "outputs": [],
   "source": [
    "def graficas(serie_ideam,serie_corregida,serie_NREL):\n",
    "    serie_ideam=sorted(serie_ideam[\"GHIdia\"])\n",
    "    serie_corregida=sorted(serie_corregida[\"GHIdia\"])\n",
    "    serie_NREL=sorted(serie_NREL[\"GHIdia\"])\n",
    "    x1=list(range(len(serie_ideam)))\n",
    "    x2=list(range(len(serie_corregida)))\n",
    "    x3=list(range(len(serie_NREL)))\n",
    "    plt.plot(x1,serie_ideam/serie_ideam[-1],'r',label='IDEAM')\n",
    "    plt.plot(x2,serie_corregida/serie_corregida[-1],'b',label='corregida')\n",
    "    plt.plot(x3,serie_NREL/serie_NREL[-1],'g',label='NREL')\n",
    "    plt.xlabel('datos')\n",
    "    plt.ylabel('Energía/Energía base ideam')\n",
    "    plt.legend()\n",
    "    return plt.show()"
   ]
  },
  {
   "cell_type": "markdown",
   "metadata": {},
   "source": [
    "## Punto 2"
   ]
  },
  {
   "cell_type": "code",
   "execution_count": null,
   "metadata": {
    "collapsed": true
   },
   "outputs": [],
   "source": []
  },
  {
   "cell_type": "markdown",
   "metadata": {},
   "source": [
    "## Punto 3"
   ]
  },
  {
   "cell_type": "code",
   "execution_count": 17,
   "metadata": {
    "collapsed": true
   },
   "outputs": [],
   "source": [
    "corta=serie[serie['AÑO'] == 2010] #Df con todo el año 2010\n",
    "seriecorta2=serie[(serie['AÑO'] >= 2007) & (serie['AÑO'] <=2012 )] #DF con año 2007 al 2011"
   ]
  },
  {
   "cell_type": "code",
   "execution_count": 18,
   "metadata": {
    "collapsed": true
   },
   "outputs": [],
   "source": [
    "ciudad = 'Valledupar'\n",
    "fuente2 = 'NREL'\n",
    "ruta_serie= os.path.join(ruta_entrada,ciudad,fuente2+'.csv')\n",
    "serienrel= pd.read_csv(ruta_serie, sep = ';',\n",
    "                encoding='latin-1')"
   ]
  },
  {
   "cell_type": "code",
   "execution_count": 19,
   "metadata": {
    "collapsed": true
   },
   "outputs": [],
   "source": [
    "def MCP(serie_corta,serie_larga):\n",
    "    serie_ajustada=pd.DataFrame(columns=['AÑO','MES','DIA','HORA','GHI'])\n",
    "    ghi_obj=serie_corta['IDEAM'].sum()/len(serie_corta)\n",
    "    sigma_obj=serie_corta['IDEAM'].std()\n",
    "    serie_larga_comun=serie_larga[(serie_larga['AÑO']>=(serie_corta.iloc[0,0])) & (serie_larga['AÑO']<=(serie_corta.iloc[-1,0]))]\n",
    "    ghi_ref=serie_larga_comun['NREL'].sum()/len(serie_larga_comun)\n",
    "    sigma_ref=serie_larga_comun['NREL'].std()\n",
    "    for i in range(0,len(serie_larga)):\n",
    "        ghi_i=((ghi_obj-(sigma_obj/sigma_ref)*ghi_ref)+(sigma_obj/sigma_ref)*serie_larga.iloc[i,4])\n",
    "        if serie_larga.iloc[i,4]==0:\n",
    "            ghi_i=0\n",
    "            \n",
    "        ano=serie_larga.iloc[i,0]\n",
    "        mes=serie_larga.iloc[i,1]\n",
    "        dia=serie_larga.iloc[i,2]\n",
    "        hora=serie_larga.iloc[i,3]\n",
    "        ghi_dict = {\"AÑO\":ano, \"MES\":mes, \"DIA\":dia,'HORA':hora,\n",
    "                        \"GHI\":ghi_i}\n",
    "        serie_ajustada = serie_ajustada.append(ghi_dict, ignore_index=True)\n",
    "    return serie_ajustada"
   ]
  },
  {
   "cell_type": "code",
   "execution_count": null,
   "metadata": {},
   "outputs": [],
   "source": [
    "MCP(corta,serienrel)"
   ]
  },
  {
   "cell_type": "markdown",
   "metadata": {},
   "source": [
    "## Punto 4"
   ]
  },
  {
   "cell_type": "markdown",
   "metadata": {},
   "source": [
    "#### MBE"
   ]
  },
  {
   "cell_type": "code",
   "execution_count": 20,
   "metadata": {
    "collapsed": true
   },
   "outputs": [],
   "source": [
    "def MBE(serie_mod,serie_obs):\n",
    "    serie_mod2=serie_mod[(serie_mod['AÑO'] >=serie_obs.iloc[0,0])]\n",
    "    error=0\n",
    "    sumatoria=0\n",
    "    for i in range(0,len(serie_obs)):\n",
    "        resta=serie_obs.iloc[i,4]-serie_mod2.iloc[i,4]\n",
    "        error=error+resta\n",
    "        sumatoria=sumatoria+serie_obs.iloc[i,4]\n",
    "    resultado=error/sumatoria\n",
    "    return print('El MBE es:',\"{:.2%}\".format(resultado) )"
   ]
  },
  {
   "cell_type": "markdown",
   "metadata": {},
   "source": [
    "#### RMSE"
   ]
  },
  {
   "cell_type": "code",
   "execution_count": 26,
   "metadata": {
    "collapsed": true
   },
   "outputs": [],
   "source": [
    "def RMSE(serie_mod,serie_obs):\n",
    "    serie_mod2=serie_mod[(serie_mod['AÑO'] >=serie_obs.iloc[0,0]) &(serie_mod['AÑO']<=serie_obs.iloc[-1,0])]\n",
    "    error=0\n",
    "    for i in range(0,len(serie_obs)):\n",
    "        resta=(serie_obs.iloc[i,4]-serie_mod2.iloc[i,4])**2\n",
    "        error=error+resta\n",
    "    error=sqrt(error/len(serie_obs))\n",
    "    resultado=error/(serie_obs['IDEAM'][serie_obs['IDEAM'].idxmax()]-serie_obs['IDEAM'][serie_obs['IDEAM'].idxmin()])\n",
    "    return print('El RMSE es:',\"{:.2%}\".format(resultado) )"
   ]
  },
  {
   "cell_type": "code",
   "execution_count": null,
   "metadata": {},
   "outputs": [],
   "source": []
  },
  {
   "cell_type": "markdown",
   "metadata": {
    "collapsed": true
   },
   "source": [
    "#### KSI"
   ]
  },
  {
   "cell_type": "code",
   "execution_count": 38,
   "metadata": {},
   "outputs": [],
   "source": [
    "def KSI(serie_mod,serie_obs):\n",
    "    serie_mod2=serie_mod[(serie_mod['AÑO'] >=serie_obs.iloc[0,0]) &(serie_mod['AÑO']<=serie_obs.iloc[-1,0])]\n",
    "    error=sp.stats.ks_2samp(serie_mod2['IDEAM'],serie_obs['NREL'])\n",
    "    return print('El pvalue es:',error[-1])"
   ]
  },
  {
   "cell_type": "code",
   "execution_count": 39,
   "metadata": {},
   "outputs": [
    {
     "name": "stdout",
     "output_type": "stream",
     "text": [
      "El pvalue es: 1.29836256126e-61\n"
     ]
    }
   ],
   "source": [
    "KSI(serie,serienrel)"
   ]
  },
  {
   "cell_type": "code",
   "execution_count": 41,
   "metadata": {},
   "outputs": [
    {
     "name": "stdout",
     "output_type": "stream",
     "text": [
      "La ENFICC 99% es 4.56900737661\n"
     ]
    },
    {
     "data": {
      "text/plain": [
       "(None,         AÑO   MES    GHIdia\n",
       " 0    2006.0   1.0  5.426402\n",
       " 1    2006.0   2.0  6.049858\n",
       " 2    2006.0   3.0  5.602049\n",
       " 3    2006.0   4.0  5.352159\n",
       " 4    2006.0   5.0  5.604888\n",
       " 5    2006.0   6.0  5.602158\n",
       " 6    2006.0   7.0  5.362423\n",
       " 7    2006.0   8.0  5.683691\n",
       " 8    2006.0   9.0  5.211831\n",
       " 9    2006.0  10.0  5.119954\n",
       " 10   2006.0  11.0  5.250348\n",
       " 11   2006.0  12.0  5.433051\n",
       " 12   2007.0   1.0  5.574657\n",
       " 13   2007.0   2.0  6.019441\n",
       " 14   2007.0   3.0  5.539717\n",
       " 15   2007.0   4.0  5.691355\n",
       " 16   2007.0   5.0  4.936006\n",
       " 17   2007.0   6.0  5.949760\n",
       " 18   2007.0   7.0  5.730243\n",
       " 19   2007.0   8.0  5.225471\n",
       " 20   2007.0   9.0  5.076315\n",
       " 21   2007.0  10.0  4.804463\n",
       " 22   2007.0  11.0  5.014997\n",
       " 23   2007.0  12.0  5.423405\n",
       " 24   2008.0   1.0  5.726034\n",
       " 25   2008.0   2.0  5.824592\n",
       " 26   2008.0   3.0  5.473850\n",
       " 27   2008.0   4.0  5.683294\n",
       " 28   2008.0   5.0  5.412217\n",
       " 29   2008.0   6.0  5.546663\n",
       " ..      ...   ...       ...\n",
       " 90   2013.0   7.0  5.633788\n",
       " 91   2013.0   8.0  5.068445\n",
       " 92   2013.0   9.0  4.629380\n",
       " 93   2013.0  10.0  4.806378\n",
       " 94   2013.0  11.0  5.006505\n",
       " 95   2013.0  12.0  4.711383\n",
       " 96   2014.0   1.0  4.864178\n",
       " 97   2014.0   2.0  5.120592\n",
       " 98   2014.0   3.0  5.322002\n",
       " 99   2014.0   4.0  5.399889\n",
       " 100  2014.0   5.0  5.637438\n",
       " 101  2014.0   6.0  5.692780\n",
       " 102  2014.0   7.0  5.860188\n",
       " 103  2014.0   8.0  5.670924\n",
       " 104  2014.0   9.0  5.473323\n",
       " 105  2014.0  10.0  4.873468\n",
       " 106  2014.0  11.0  5.413081\n",
       " 107  2014.0  12.0  5.507259\n",
       " 108  2015.0   1.0  5.940379\n",
       " 109  2015.0   2.0  6.535212\n",
       " 110  2015.0   3.0  6.881268\n",
       " 111  2015.0   4.0  6.439381\n",
       " 112  2015.0   5.0  6.101568\n",
       " 113  2015.0   6.0  6.826207\n",
       " 114  2015.0   7.0  6.595570\n",
       " 115  2015.0   8.0  6.422989\n",
       " 116  2015.0   9.0  6.432493\n",
       " 117  2015.0  10.0  5.701090\n",
       " 118  2015.0  11.0  5.247824\n",
       " 119  2015.0  12.0  5.501302\n",
       " \n",
       " [120 rows x 3 columns])"
      ]
     },
     "execution_count": 41,
     "metadata": {},
     "output_type": "execute_result"
    }
   ],
   "source": [
    "ENFICC(serie)"
   ]
  },
  {
   "cell_type": "code",
   "execution_count": 49,
   "metadata": {},
   "outputs": [
    {
     "name": "stdout",
     "output_type": "stream",
     "text": [
      "La ENFICC 99% es 4.56900737661\n",
      "La ENFICC 99% es 4.56900737661\n",
      "La ENFICC 99% es 5.06265316667\n"
     ]
    }
   ],
   "source": [
    "serie1=ENFICC(serie)[-1]\n",
    "serie2=ENFICC(serie)[-1]\n",
    "serie3=ENFICC(serienrel)[-1]"
   ]
  },
  {
   "cell_type": "code",
   "execution_count": 52,
   "metadata": {},
   "outputs": [
    {
     "data": {
      "image/png": "[encoded data removed]",
      "text/plain": [
       "<matplotlib.figure.Figure at 0x1a11552278>"
      ]
     },
     "metadata": {},
     "output_type": "display_data"
    }
   ],
   "source": [
    "graficas(serie1,serie2,serie3)"
   ]
  },
  {
   "cell_type": "code",
   "execution_count": null,
   "metadata": {
    "collapsed": true
   },
   "outputs": [],
   "source": []
  }
 ],
 "metadata": {
  "kernelspec": {
   "display_name": "Python 3",
   "language": "python",
   "name": "python3"
  },
  "language_info": {
   "codemirror_mode": {
    "name": "ipython",
    "version": 3
   },
   "file_extension": ".py",
   "mimetype": "text/x-python",
   "name": "python",
   "nbconvert_exporter": "python",
   "pygments_lexer": "ipython3",
   "version": "3.6.3"
  }
 },
 "nbformat": 4,
 "nbformat_minor": 2
}
