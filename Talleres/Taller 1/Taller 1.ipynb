{
 "cells": [
  {
   "cell_type": "code",
   "execution_count": 1,
   "metadata": {
    "collapsed": true
   },
   "outputs": [],
   "source": [
    "import numpy as np\n",
    "import scipy as sp\n",
    "import matplotlib.pylab as plt\n",
    "import pandas as pd\n",
    "import os\n",
    "from scipy.stats import norm\n",
    "import math\n",
    "import operator"
   ]
  },
  {
   "cell_type": "code",
   "execution_count": 2,
   "metadata": {
    "collapsed": true
   },
   "outputs": [],
   "source": [
    "#Importación de datos\n",
    "\n",
    "ruta_entrada= os.path.join( '.','data')\n",
    "ruta_salida = os.path.join( '.','output')\n",
    "datos_valledupar = 'Valledupar'\n",
    "datos_ideam_valledupar = 'IDEAM'\n",
    "ruta_serie_valledupar_ideam= os.path.join(ruta_entrada,datos_valledupar,datos_ideam_valledupar+'.csv')\n",
    "ideam_valledupar= pd.read_csv(ruta_serie_valledupar_ideam, sep = ';',\n",
    "                encoding='latin-1')\n",
    "datos_nrel_valledupar = 'NREL'\n",
    "ruta_serie_valledupar_nrel= os.path.join(ruta_entrada,datos_valledupar,datos_nrel_valledupar+'.csv')\n",
    "nrel_valledupar= pd.read_csv(ruta_serie_valledupar_nrel, sep = ';',\n",
    "                encoding='latin-1')\n",
    "\n",
    "datos_uribia = 'Uribia'\n",
    "datos_ideam_uribia = 'IDEAM'\n",
    "ruta_serie_uribia_ideam= os.path.join(ruta_entrada,datos_uribia,datos_ideam_uribia+'.csv')\n",
    "ideam_uribia= pd.read_csv(ruta_serie_uribia_ideam, sep = ';',\n",
    "                encoding='latin-1')\n",
    "datos_nrel_uribia = 'NREL'\n",
    "ruta_serie_uribia_nrel= os.path.join(ruta_entrada,datos_uribia,datos_nrel_uribia+'.csv')\n",
    "nrel_uribia= pd.read_csv(ruta_serie_uribia_nrel, sep = ';',\n",
    "                encoding='latin-1')\n",
    "\n",
    "datos_sucre= 'Sucre'\n",
    "datos_ideam_sucre = 'IDEAM'\n",
    "ruta_serie_sucre_ideam= os.path.join(ruta_entrada,datos_sucre,datos_ideam_sucre+'.csv')\n",
    "ideam_sucre= pd.read_csv(ruta_serie_sucre_ideam, sep = ';',\n",
    "                encoding='latin-1')\n",
    "datos_nrel_sucre = 'NREL'\n",
    "ruta_serie_sucre_nrel= os.path.join(ruta_entrada,datos_sucre,datos_nrel_sucre+'.csv')\n",
    "nrel_sucre= pd.read_csv(ruta_serie_sucre_nrel, sep = ';',\n",
    "                encoding='latin-1')\n",
    "\n",
    "datos_santamarta = 'SantaMarta'\n",
    "datos_ideam_santamarta = 'IDEAM'\n",
    "ruta_serie_santamarta_ideam= os.path.join(ruta_entrada,datos_santamarta,datos_ideam_santamarta+'.csv')\n",
    "ideam_santamarta= pd.read_csv(ruta_serie_santamarta_ideam, sep = ';',\n",
    "                encoding='latin-1')\n",
    "datos_nrel_santamarta = 'NREL'\n",
    "ruta_serie_santamarta_nrel= os.path.join(ruta_entrada,datos_santamarta,datos_nrel_santamarta+'.csv')\n",
    "nrel_santamarta= pd.read_csv(ruta_serie_santamarta_nrel, sep = ';',\n",
    "                encoding='latin-1')\n",
    "\n",
    "datos_medellin = 'Medellin'\n",
    "datos_ideam_medellin = 'IDEAM'\n",
    "ruta_serie_medellin_ideam= os.path.join(ruta_entrada,datos_medellin,datos_ideam_medellin+'.csv')\n",
    "ideam_medellin= pd.read_csv(ruta_serie_medellin_ideam, sep = ';',\n",
    "                encoding='latin-1')\n",
    "datos_nrel_medellin = 'NREL'\n",
    "ruta_serie_medellin_nrel= os.path.join(ruta_entrada,datos_medellin,datos_nrel_medellin+'.csv')\n",
    "nrel_medellin= pd.read_csv(ruta_serie_medellin_nrel, sep = ';',\n",
    "                encoding='latin-1')\n",
    "\n",
    "datos_carmen = 'Carmendebolivar'\n",
    "datos_ideam_carmen = 'IDEAM'\n",
    "ruta_serie_carmen_ideam= os.path.join(ruta_entrada,datos_carmen,datos_ideam_carmen+'.csv')\n",
    "ideam_carmen= pd.read_csv(ruta_serie_carmen_ideam, sep = ';',\n",
    "                encoding='latin-1')\n",
    "datos_nrel_carmen = 'NREL'\n",
    "ruta_serie_carmen_nrel= os.path.join(ruta_entrada,datos_carmen,datos_nrel_carmen+'.csv')\n",
    "nrel_carmen= pd.read_csv(ruta_serie_carmen_nrel, sep = ';',\n",
    "                encoding='latin-1')\n",
    "\n",
    "datos_cali = 'Cali'\n",
    "datos_ideam_cali = 'IDEAM'\n",
    "ruta_serie_cali_ideam= os.path.join(ruta_entrada,datos_cali,datos_ideam_cali+'.csv')\n",
    "ideam_cali= pd.read_csv(ruta_serie_cali_ideam, sep = ';',\n",
    "                encoding='latin-1')\n",
    "datos_nrel_cali = 'NREL'\n",
    "ruta_serie_cali_nrel= os.path.join(ruta_entrada,datos_cali,datos_nrel_cali+'.csv')\n",
    "nrel_cali= pd.read_csv(ruta_serie_cali_nrel, sep = ';',\n",
    "                encoding='latin-1')\n",
    "\n",
    "datos_barranquilla = 'Barranquilla'\n",
    "datos_ideam_barranquilla = 'IDEAM'\n",
    "ruta_serie_barranquilla_ideam= os.path.join(ruta_entrada,datos_barranquilla,datos_ideam_barranquilla+'.csv')\n",
    "ideam_barranquilla= pd.read_csv(ruta_serie_barranquilla_ideam, sep = ';',\n",
    "                encoding='latin-1')\n",
    "datos_nrel_barranquilla = 'NREL'\n",
    "ruta_serie_barranquilla_nrel= os.path.join(ruta_entrada,datos_barranquilla,datos_nrel_barranquilla+'.csv')\n",
    "nrel_barranquilla= pd.read_csv(ruta_serie_barranquilla_nrel, sep = ';',\n",
    "                encoding='latin-1')"
   ]
  },
  {
   "cell_type": "markdown",
   "metadata": {},
   "source": [
    "## Punto 1"
   ]
  },
  {
   "cell_type": "code",
   "execution_count": 3,
   "metadata": {
    "collapsed": true
   },
   "outputs": [],
   "source": [
    "def GHIprom(serie_horaria):  #Entrada es una serie en resolución horaria, retorna DataFrame de promedios diarios mensuales\n",
    "    agnos=sorted(serie_horaria['AÑO'].unique())\n",
    "    ghi_df=pd.DataFrame(columns=[\"AÑO\",\"MES\",\"DIAS\",\"GHImes\"])\n",
    "    energia = list(serie_horaria)[-1]\n",
    "    for agno in agnos:\n",
    "        for mes in range(1,13):\n",
    "            dias = sorted(serie_horaria[(serie_horaria['AÑO'] == agno) &\n",
    "                        (serie_horaria['MES'] == mes)][\"DIA\"].unique())\n",
    "            ghi_mes = serie_horaria.loc[((serie_horaria[\"AÑO\"] == agno)\n",
    "                            & (serie_horaria[\"MES\"] == mes)),\n",
    "                                        energia].sum()/1000\n",
    "            ghi_dict = {\"AÑO\":agno, \"MES\":mes, \"DIAS\":dias[-1],\n",
    "                        \"GHImes\":ghi_mes}\n",
    "            ghi_df = ghi_df.append(ghi_dict, ignore_index=True)\n",
    "        \n",
    "        \n",
    "    agnos2=sorted(ghi_df['AÑO'].unique())\n",
    "    df_dias=pd.DataFrame(columns=[\"AÑO\",\"MES\",\"GHIdia\"])\n",
    "    for agno in agnos2:\n",
    "        for mes in range(1,13):\n",
    "            dia=ghi_df.loc[((ghi_df['AÑO']==agno) &\n",
    "                                   (ghi_df['MES']==mes)),'DIAS'].item()\n",
    "            ghi_diario=ghi_df.loc[((ghi_df['AÑO']==agno) & \n",
    "                                          (ghi_df['MES']==mes)),'GHImes'].item()/dia\n",
    "            ghi_dict = {'AÑO':agno,'MES':mes,'GHIdia':ghi_diario}\n",
    "            df_dias=df_dias.append(ghi_dict,ignore_index=True)\n",
    "            \n",
    "    return df_dias\n",
    "\n",
    "def ENFICC(serie): #Calcula la ENFICC 99% del DataFrame determinado en la función anterior\n",
    "    ENFICC=serie.quantile(0.01,numeric_only=True)['GHIdia']\n",
    "    \n",
    "    return print('La ENFICC 99% es', ENFICC)"
   ]
  },
  {
   "cell_type": "markdown",
   "metadata": {},
   "source": [
    "## Punto 2"
   ]
  },
  {
   "cell_type": "code",
   "execution_count": 4,
   "metadata": {
    "collapsed": true
   },
   "outputs": [],
   "source": [
    "def graficas(serie_ideam,serie_corregida,serie_nrel): #Entra serie ideam, serie corregida y serie nrel en resolucion horaria\n",
    "    prom_serie_ideam=GHIprom(serie_ideam)\n",
    "    prom_serie_corregida=GHIprom(serie_corregida)\n",
    "    prom_serie_nrel=GHIprom(serie_nrel)\n",
    "    \n",
    "    prom_serie_ideam=sorted(prom_serie_ideam[\"GHIdia\"])\n",
    "    prom_serie_corregida=sorted(prom_serie_corregida[\"GHIdia\"])\n",
    "    prom_serie_nrel=sorted(prom_serie_nrel[\"GHIdia\"])\n",
    "    \n",
    "    x1=list(range(len(prom_serie_ideam)))\n",
    "    x2=list(range(len(prom_serie_corregida)))\n",
    "    x3=list(range(len(prom_serie_nrel)))\n",
    "    \n",
    "    plt.plot(x1,prom_serie_ideam/prom_serie_ideam[0],'r',label='IDEAM')\n",
    "    plt.plot(x2,prom_serie_corregida/prom_serie_ideam[0],'b',label='corregida')\n",
    "    plt.plot(x3,prom_serie_nrel/prom_serie_ideam[0],'g',label='NREL')\n",
    "    \n",
    "    plt.xlabel('datos')\n",
    "    plt.ylabel('Energía/Energía base ideam')\n",
    "    plt.legend()\n",
    "    return plt.show()"
   ]
  },
  {
   "cell_type": "markdown",
   "metadata": {},
   "source": [
    "## Punto 3"
   ]
  },
  {
   "cell_type": "code",
   "execution_count": 5,
   "metadata": {
    "collapsed": true
   },
   "outputs": [],
   "source": [
    "def MCP(serie_corta,serie_larga): #Entra una serie de corto tiempo y una serie de referencia de duración completa.\n",
    "    correcta=serie_larga.copy()\n",
    "    serie_larga_comun=correcta[(correcta['AÑO']>=serie_corta.iloc[0,0]) & (correcta['AÑO']<=serie_corta.iloc[-1,0]) \n",
    "                                  &(correcta['MES']>=serie_corta.iloc[0,1]) & (correcta['MES']<=serie_corta.iloc[-1,1]) ]\n",
    "    ghi_obj=serie_corta['IDEAM'].mean()\n",
    "    sigma_obj=serie_corta['IDEAM'].std()\n",
    "    ghi_ref=serie_larga_comun['NREL'].mean()\n",
    "    sigma_ref=serie_larga_comun['NREL'].std()\n",
    "    ghi_i=(ghi_obj-(sigma_obj/sigma_ref)*ghi_ref)+(sigma_obj/sigma_ref)*correcta['NREL']\n",
    "    ghi_i[ghi_i<=0]=0\n",
    "    correcta['NREL']=ghi_i\n",
    "    return correcta #Retorna serie con datos GHI ajustados"
   ]
  },
  {
   "cell_type": "markdown",
   "metadata": {},
   "source": [
    "## Punto 4"
   ]
  },
  {
   "cell_type": "markdown",
   "metadata": {},
   "source": [
    "#### MBE"
   ]
  },
  {
   "cell_type": "code",
   "execution_count": 15,
   "metadata": {
    "collapsed": true
   },
   "outputs": [],
   "source": [
    "def MBE(serie_mod,serie_obs): #Entra serie corregida o nrel, y serie ideam\n",
    "    serie_mod=GHIprom(serie_mod)\n",
    "    serie_obs=GHIprom(serie_obs)\n",
    "    serie_mod=serie_mod[(serie_mod['AÑO']>=serie_obs.iloc[0,0]) & (serie_mod['AÑO']<=serie_obs.iloc[-1,0]) \n",
    "                       & (serie_mod['MES']>=serie_obs.iloc[0,1]) &(serie_mod['MES']<=serie_obs.iloc[-1,1])]\n",
    "    ghi_mod=sorted(serie_mod['GHIdia'])\n",
    "    ghi_obs=sorted(serie_obs['GHIdia'])\n",
    "    suma1=sum(ghi_mod)\n",
    "    suma2=sum(ghi_obs)\n",
    "    error=suma1-suma2\n",
    "    resultado=error/suma2\n",
    "    return print('El MBE es:',\"{:.2%}\".format(resultado) )"
   ]
  },
  {
   "cell_type": "markdown",
   "metadata": {},
   "source": [
    "#### RMSE"
   ]
  },
  {
   "cell_type": "code",
   "execution_count": 13,
   "metadata": {
    "collapsed": true
   },
   "outputs": [],
   "source": [
    "def RMSE(serie_mod,serie_obs): #Entra serie corregida o nrel, y serie ideam\n",
    "    serie_mod=GHIprom(serie_mod)\n",
    "    serie_obs=GHIprom(serie_obs)\n",
    "    serie_mod=serie_mod[(serie_mod['AÑO']>=serie_obs.iloc[0,0]) & (serie_mod['AÑO']<=serie_obs.iloc[-1,0]) \n",
    "                       & (serie_mod['MES']>=serie_obs.iloc[0,1]) &(serie_mod['MES']<=serie_obs.iloc[-1,1])]\n",
    "    ghi_mod=sorted(serie_mod['GHIdia'])\n",
    "    ghi_obs=sorted(serie_obs['GHIdia'])\n",
    "    sumatoria=0\n",
    "    error=0\n",
    "    for i in range(0,len(ghi_obs)):\n",
    "        resta=(ghi_obs[i]-ghi_mod[i])**2\n",
    "        error=error+resta\n",
    "        sumatoria=sumatoria+ghi_obs[i]\n",
    "    error=math.sqrt(error/len(ghi_obs))\n",
    "    resultado=error/(max(ghi_obs)-min(ghi_obs))\n",
    "        \n",
    "    return print('El RMSE es:',\"{:.2%}\".format(resultado) )"
   ]
  },
  {
   "cell_type": "markdown",
   "metadata": {
    "collapsed": true
   },
   "source": [
    "#### PVALUE"
   ]
  },
  {
   "cell_type": "code",
   "execution_count": 36,
   "metadata": {
    "collapsed": true
   },
   "outputs": [],
   "source": [
    "def KSI(serie_mod,serie_obs):\n",
    "    serie_mod=serie_mod[(serie_mod['AÑO']>=serie_obs.iloc[0,0]) & (serie_mod['AÑO']<=serie_obs.iloc[-1,0]) \n",
    "                       & (serie_mod['MES']>=serie_obs.iloc[0,1]) &(serie_mod['MES']<=serie_obs.iloc[-1,1])]\n",
    "    ghi_mod=sorted(serie_mod['GHIdia'])\n",
    "    ghi_obs=sorted(serie_obs['GHIdia'])\n",
    "    \n",
    "    error=sp.stats.ks_2samp(ghi_mod,ghi_obs)\n",
    "    return print('El pvalue es:',\"{:.2%}\".format(error[-1]))"
   ]
  },
  {
   "cell_type": "markdown",
   "metadata": {},
   "source": [
    "# Análisis"
   ]
  },
  {
   "cell_type": "markdown",
   "metadata": {},
   "source": [
    "## Valledupar"
   ]
  },
  {
   "cell_type": "markdown",
   "metadata": {},
   "source": [
    "Para empezar, se calculan los promedios diarios mensual de GHI para los datos del IDEAM y de NREL, para después determinar la ENFICC de cada uno de ellos. En este caso, el primer resultado corresponde a los datos de IDEAM, mientras que el segundo corresponde a los datos de NREL."
   ]
  },
  {
   "cell_type": "code",
   "execution_count": 9,
   "metadata": {},
   "outputs": [
    {
     "name": "stdout",
     "output_type": "stream",
     "text": [
      "La ENFICC 99% es 4.56900737661\n",
      "La ENFICC 99% es 5.06265316667\n"
     ]
    }
   ],
   "source": [
    "promedio_ideam_valledupar=GHIprom(ideam_valledupar)\n",
    "promedio_nrel_valledupar=GHIprom(nrel_valledupar)\n",
    "enficc_ideam_valledupar=ENFICC(promedio_ideam_valledupar)\n",
    "enficc_nrel_valledupar=ENFICC(promedio_nrel_valledupar)"
   ]
  },
  {
   "cell_type": "markdown",
   "metadata": {},
   "source": [
    "Se observa cierta discrepancia entre cada uno de los valores calculados. El valor del GHI diario mensual que se calcula sobre los datos de NREL supera por 0.5 al resultado obtenido utilizando como base los datos medidos en tierra."
   ]
  },
  {
   "cell_type": "markdown",
   "metadata": {},
   "source": [
    "Ahora, a través de la correción MCP, se buscará que, a partir de ciertas franjas de tiempo tomadas de los datos medidos en tierra y de una serie de referencia (NREL), se llegue a una serie de datos de promedio diario mensual de GHI, observando el efecto que tiene seleccionar temporalidades que presentaron fenómenos (como el fenómeno de La Niña o el Niño). En el año 2010, según la revista Semana, se tuvo la peor temporada de La Niña, por lo cual se tomará este año como serie base para realizar el ajuste y observar el comportamiento de la serie corregida."
   ]
  },
  {
   "cell_type": "code",
   "execution_count": 10,
   "metadata": {},
   "outputs": [
    {
     "name": "stdout",
     "output_type": "stream",
     "text": [
      "La ENFICC 99% es 4.4688224469\n"
     ]
    }
   ],
   "source": [
    "nina_2010_valledupar=ideam_valledupar[ideam_valledupar['AÑO']==2010] #se toma sólo el año a analizar\n",
    "nina_2010_valledupar_corregida=MCP(nina_2010_valledupar,nrel_valledupar) #Se realiza el ajuste\n",
    "promedio_nina_2010_valledupar=GHIprom(nina_2010_valledupar_corregida) #Se determina la serie con los promedios diarios mensuales\n",
    "enficc_nina_2010_valledupar=ENFICC(promedio_nina_2010_valledupar) #se determina la ENFICC"
   ]
  },
  {
   "cell_type": "markdown",
   "metadata": {},
   "source": [
    "Se observa que, realizando un ajuste a partir de un año con menor cantidad de radiación de lo usual, se llega a un valor de la ENFICC menor a lo que se obtuvo para los dos casos anteriores. La reducción en este valor tiene sentido debido a que, al utilizar una serie donde se presentó fenómeno de La Niña para realizar un ajuste, se esperaría que los datos obtenidos a través de la correción sean de menor magnitud y, por lo tanto, el valor que se puede superar con un 99% de certeza sea menor."
   ]
  },
  {
   "cell_type": "code",
   "execution_count": 11,
   "metadata": {},
   "outputs": [
    {
     "data": {
      "image/png": "[encoded data removed]",
      "text/plain": [
       "<matplotlib.figure.Figure at 0x1a13d813c8>"
      ]
     },
     "metadata": {},
     "output_type": "display_data"
    }
   ],
   "source": [
    "graficas(ideam_valledupar,nina_2010_valledupar_corregida,nrel_valledupar)"
   ]
  },
  {
   "cell_type": "markdown",
   "metadata": {},
   "source": [
    "En la gráfica recién presentada se observa el comportamiento de la energía para cada una de las series analizadas, las cuales están normalizadas con respecto al menor valor del promedio diario mensual de la energía obtenida de IDEAM. La corrección llevada a cabo hace quer los primeros datos se asemejen al IDEAM. Sin embargo, estos empiezan a presentar una mayor diferencia conforme la energía aumenta. Lo anterior se debe a que, como fue mencionado anteriormente, al seleccionar un año en donde el GHI fue menor a lo normal, la serie total ajustada obtenida no alcanzará valores tan altos como los que se esperarían, si se compara con la serie real medida en tierra y la satelital.\n",
    "\n",
    "Para ilustrar de mejor manera lo anterior, se determinan los indicadores de error entre la serie de IDEAM y la corregida."
   ]
  },
  {
   "cell_type": "code",
   "execution_count": 38,
   "metadata": {},
   "outputs": [
    {
     "name": "stdout",
     "output_type": "stream",
     "text": [
      "El MBE es: -1.25%\n",
      "El RMSE es: 7.29%\n",
      "El pvalue es: 45.97%\n"
     ]
    }
   ],
   "source": [
    "mbe_nina_valledupar=MBE(nina_2010_valledupar_corregida,ideam_valledupar)\n",
    "rmse_nina_valledupar=RMSE(nina_2010_valledupar_corregida,ideam_valledupar)\n",
    "pvalue_nina_valledupar=KSI(promedio_nina_2010_valledupar,promedio_ideam_valledupar)"
   ]
  },
  {
   "cell_type": "markdown",
   "metadata": {},
   "source": [
    "Para calcular el MBE y RMSE se usan las series en resolución horaria, mientras que, para la determinación del pvalue, se usan las series con el promedio diario mensual.\n",
    "En particular, si se observa el pvalue, sería posible conlcuir que, en cierta medida, la serie ajustada proviene de la serie de IDEAM, ya que el mismo se encuentra casi a la mitad del 100%. De acercarse más a este valor, se tendría más seguridad de lo ya mencionado y, por lo tanto, la corrección sería más adecuada. El análisis de el error MBE y RMSE se realizará más adelante, comparando estos con los obtenidos al tomar una serie para corregir que presente datos más adecuados. "
   ]
  },
  {
   "cell_type": "markdown",
   "metadata": {},
   "source": [
    "Ahora, para contrastar con los resultados obtenidos al tomar como serie de ajuste datos de un año con La Niña, se realizará el mismo procedimiento, pero tomando un año que no presente ninguna de las dos situaciones (Niño o Niña). Entonces, se tomará el año 2014."
   ]
  },
  {
   "cell_type": "code",
   "execution_count": 51,
   "metadata": {},
   "outputs": [
    {
     "name": "stdout",
     "output_type": "stream",
     "text": [
      "La ENFICC 99% es 4.50538977385\n"
     ]
    }
   ],
   "source": [
    "valledupar_ideam_2014=ideam_valledupar[ideam_valledupar['AÑO']==2014] #se toma sólo la serie de interés.\n",
    "valledupar_ideam_2014_corregida=MCP(valledupar_ideam_2014,nrel_valledupar) #Se realiza el ajuste.\n",
    "promedio_valledupar_ideam_2014=GHIprom(valledupar_ideam_2014_corregida) #Se determina la serie con los promedios diarios mensuales\n",
    "enficc_ideam_2014_valledupar=ENFICC(promedio_valledupar_ideam_2014) #se determina la ENFICC"
   ]
  },
  {
   "cell_type": "markdown",
   "metadata": {},
   "source": [
    "Se obtiene, entonces, un valor para la ENFICC mayor al calculado con los datos del año de La Niña, lo cual era de esperarse. De lo anterior se deriva que el resultado obtenido se asemeja más a la ENFICC medida en tierra (5.06). A continuación se presenta la gráfica con los mismos datos de NREL e IDEAM, comparados con la nueva serie ajustada:"
   ]
  },
  {
   "cell_type": "code",
   "execution_count": 52,
   "metadata": {},
   "outputs": [
    {
     "data": {
      "image/png": "[encoded data removed]",
      "text/plain": [
       "<matplotlib.figure.Figure at 0x10ebfb7b8>"
      ]
     },
     "metadata": {},
     "output_type": "display_data"
    }
   ],
   "source": [
    "graficas(ideam_valledupar,valledupar_ideam_2014_corregida,nrel_valledupar)"
   ]
  },
  {
   "cell_type": "markdown",
   "metadata": {},
   "source": [
    "Al observar la gráfica obtenida, se puede ver como los datos finales de la serie corregida se acercan un poco más a la serie medida en tierra, mejorando el error en ese sector de los mismos. Además de esto, para valores de la energía por energía base de IDEAM más bajos, se sigue manteniendo una similitud entre los datos, como fue visto  para el caso analizado anteriormente. A partir de esto sería de esperar que los indicadores de error bajasen sus respectivos porcentajes, a excepción del pvalue, que debería acercarse más a 100%."
   ]
  },
  {
   "cell_type": "code",
   "execution_count": 69,
   "metadata": {},
   "outputs": [
    {
     "name": "stdout",
     "output_type": "stream",
     "text": [
      "El MBE es: -0.40%\n",
      "El RMSE es: 6.65%\n",
      "El pvalue es: 67.38%\n"
     ]
    }
   ],
   "source": [
    "mbe_valledupar_2014=MBE(valledupar_ideam_2014_corregida,ideam_valledupar)\n",
    "rmse_valledupar_2014=RMSE(valledupar_ideam_2014_corregida,ideam_valledupar)\n",
    "pvalue_nina_valledupar=KSI(promedio_valledupar_ideam_2014,promedio_ideam_valledupar)"
   ]
  },
  {
   "cell_type": "markdown",
   "metadata": {},
   "source": [
    "Como fue mencionado anteriormente, se ve que los errores MBE y RMSE disminuyen en comparación a los valores que se determinaron para el caso de la serie del año de La Niña. Por otra parte, el pvalue se acerca más al 100%, a partir de lo cual se tiene mayor certeza de que la serie corregida proviene de los datos originales medidos en tierra.\n",
    "\n",
    "De los dos análisis realizados se concluye que se debe ser cuidadoso al momento de seleccionar un periodo para ajustar. Este debe ser un año que no presente distorsiones climáticas que afecten los niveles de radiación y, por ende, la serie que se obtenga a partir de esta traiga consigo un sesgo."
   ]
  },
  {
   "cell_type": "markdown",
   "metadata": {},
   "source": [
    "## Santa Marta"
   ]
  },
  {
   "cell_type": "markdown",
   "metadata": {},
   "source": [
    "Para empezar, se calculan las series de promedios diarios mensuales GHI para los datos de NREL e IDEAM. El primer resultado corresponde a la ENFICC a partir de IDEAM y, el segundo, a partir de NREL."
   ]
  },
  {
   "cell_type": "code",
   "execution_count": 56,
   "metadata": {},
   "outputs": [
    {
     "name": "stdout",
     "output_type": "stream",
     "text": [
      "La ENFICC 99% es 4.04071664383\n",
      "La ENFICC 99% es 4.536077\n"
     ]
    }
   ],
   "source": [
    "promedio_ideam_santamarta=GHIprom(ideam_santamarta)\n",
    "promedio_nrel_santamarta=GHIprom(nrel_santamarta)\n",
    "enficc_ideam_santamarta=ENFICC(promedio_ideam_santamarta)\n",
    "enficc_nrel_santamarta=ENFICC(promedio_nrel_santamarta)"
   ]
  },
  {
   "cell_type": "markdown",
   "metadata": {},
   "source": [
    "Para este caso, la ENFICC calculada por medio de los datos medidos en tierra es menor a este mismo valor para el caso NREL. Contrario a Valledupar, este resultado es mayor para la información satelital. Se observa un comportamiento similar a la ciudad anterior, ya que los valores difieren también, aproximadamente, por 0.5."
   ]
  },
  {
   "cell_type": "markdown",
   "metadata": {},
   "source": [
    "Se probará ahora una corrección realizada con base a un año en donde se haya presentado fenómeno de El Niño, con el fin de analizar el impacto que genera esto sobre la serie corregida que se genere a partir de esto. Según el periódico El Tiempo, El Niño del 2015 fue uno de los más devastadores, siendo el departamento del Magdalena uno de los más afectados. Entonces, se analizará el impacto que genera sobre la serie corregida el utilizar este año como serie para ajustar."
   ]
  },
  {
   "cell_type": "code",
   "execution_count": 57,
   "metadata": {},
   "outputs": [
    {
     "name": "stdout",
     "output_type": "stream",
     "text": [
      "La ENFICC 99% es 4.92027323961\n"
     ]
    }
   ],
   "source": [
    "nino_2015_santamarta=ideam_santamarta[ideam_santamarta['AÑO']==2015] #se toma sólo el año a analizar\n",
    "nino_2015_santamarta_corregida=MCP(nino_2015_santamarta,nrel_santamarta) #Se realiza el ajuste\n",
    "promedio_nino_2015_santamarta=GHIprom(nino_2015_santamarta_corregida) #Se determina la serie con los promedios diarios mensuales\n",
    "enficc_nino_2015_santamarta=ENFICC(promedio_nino_2015_santamarta) #se determina la ENFICC"
   ]
  },
  {
   "cell_type": "markdown",
   "metadata": {},
   "source": [
    "En este caso, la discrepancia entre este valor y la ENFICC para IDEAM y NREL es mayor a lo visto para la ciudad de Valledupar. En la siguiente gráfica se observa la manera como difieren los datos."
   ]
  },
  {
   "cell_type": "code",
   "execution_count": 58,
   "metadata": {},
   "outputs": [
    {
     "data": {
      "image/png": "[encoded data removed]",
      "text/plain": [
       "<matplotlib.figure.Figure at 0x1a16cb5f98>"
      ]
     },
     "metadata": {},
     "output_type": "display_data"
    }
   ],
   "source": [
    "graficas(ideam_santamarta,nino_2015_santamarta_corregida,nrel_santamarta)"
   ]
  },
  {
   "cell_type": "markdown",
   "metadata": {},
   "source": [
    "Como era de esperarse debido a un mayor ENFICC, los datos de energía para la serie corregida superan tanto a la serie IDEAM, como a la NREL. Aunque la serie de IDEAM contiene menor cantidad de datos, se observa que el valor máximo es casi el mismo que el máximo que se obtiene para la serie corregida. A continuación se determinan los errores para este caso:"
   ]
  },
  {
   "cell_type": "code",
   "execution_count": 75,
   "metadata": {},
   "outputs": [
    {
     "name": "stdout",
     "output_type": "stream",
     "text": [
      "El MBE es: 13.12%\n",
      "El RMSE es: 17.97%\n",
      "El pvalue es: 0.00%\n"
     ]
    }
   ],
   "source": [
    "mbe_nino_santamarta_2015=MBE(nino_2015_santamarta_corregida,ideam_santamarta)\n",
    "rmse_nino_santamarta_2015=RMSE(nino_2015_santamarta_corregida,ideam_santamarta)\n",
    "KSI(promedio_nino_2015_santamarta,promedio_ideam_santamarta)"
   ]
  },
  {
   "cell_type": "markdown",
   "metadata": {},
   "source": [
    "Anzalizando los resultados para los errores MBE y RMSE, es posible determinar que, como se mencionó anteriormente, el error que se tiene entre la serie ajustada y los valores medidos en tierra son significativos. Lo anterior se refleja de mejor manera en el pvalue, del cual se obtiene 0%, lo que significa que, teóricamente, la serie obtenida no proviene de una parte de la serie de IDEAM. Se puede ver, entonces, el efecto que genera usar como serie para ajustar un año en el que se tenga este tipo de fenómeno. Lo mismo se pudo observar para La Niña en la ciudad de Valledupar, con la diferencia de que los datos corregidos de energía fueron menores a los de IDEAM y NREL. "
   ]
  },
  {
   "cell_type": "markdown",
   "metadata": {},
   "source": [
    "## Cali"
   ]
  },
  {
   "cell_type": "markdown",
   "metadata": {},
   "source": [
    "De igual forma que las ciudades anteriores, se calcula la ENFICC para los datos de NREL e IDEAM."
   ]
  },
  {
   "cell_type": "code",
   "execution_count": 76,
   "metadata": {},
   "outputs": [
    {
     "name": "stdout",
     "output_type": "stream",
     "text": [
      "La ENFICC 99% es 3.33077931605\n",
      "La ENFICC 99% es 4.36085916667\n"
     ]
    }
   ],
   "source": [
    "promedio_ideam_cali=GHIprom(ideam_cali)\n",
    "promedio_nrel_cali=GHIprom(nrel_cali)\n",
    "enficc_ideam_cali=ENFICC(promedio_ideam_cali)\n",
    "enficc_nrel_cali=ENFICC(promedio_nrel_cali)"
   ]
  },
  {
   "cell_type": "markdown",
   "metadata": {},
   "source": [
    "Contrario a los casos anteriores, la ENFICC calculada para cada una de las series de datos es casi la misma, variando sólo en, aproximadanete, 0.03. Este comportamiento se verá reflejado en la gráfica más adelante.\n",
    "\n",
    "Esta vez, en lugar de tomar años donde se tengan fenómenos climáticos, se realizará un ajuste utilizando una serie con una temporalidad menor a la exigida en el protocolo (se pide un año, como mínimo). Se toma entonces 6 meses del año 2006 y se realiza el respectivo análisis."
   ]
  },
  {
   "cell_type": "code",
   "execution_count": 89,
   "metadata": {},
   "outputs": [
    {
     "name": "stdout",
     "output_type": "stream",
     "text": [
      "La ENFICC 99% es 3.70823246591\n"
     ]
    }
   ],
   "source": [
    "serie_corta_cali_2008=ideam_cali[ideam_cali['AÑO']==2008] #se toma sólo el año a analizar\n",
    "serie_corta_cali=serie_corta_cali_2008[(serie_corta_cali_2008['MES']>=3) & (serie_corta_cali_2008['MES']<=8)]\n",
    "serie_corta_cali_corregida=MCP(serie_corta_cali,nrel_cali) #Se realiza el ajuste\n",
    "promedio_corta_cali_ideam=GHIprom(serie_corta_cali_corregida) #Se determina la serie con los promedios diarios mensuales\n",
    "enficc_corta_cali=ENFICC(promedio_corta_cali_ideam) #se determina la ENFICC"
   ]
  },
  {
   "cell_type": "markdown",
   "metadata": {},
   "source": [
    "Se obtiene un valor para la ENFICC de 3.7. Este valor es ligeramente mayor que el resultado sólo para NREL y supera un poco más al resultado de IDEAM. Se observa a continuación la gráfica con los valores de GHI para la serie ajustada, IDEAM y NREL."
   ]
  },
  {
   "cell_type": "code",
   "execution_count": 90,
   "metadata": {},
   "outputs": [
    {
     "data": {
      "image/png": "[encoded data removed]",
      "text/plain": [
       "<matplotlib.figure.Figure at 0x1a20b4e908>"
      ]
     },
     "metadata": {},
     "output_type": "display_data"
    }
   ],
   "source": [
    "graficas(ideam_cali,serie_corta_cali_corregida,nrel_cali)"
   ]
  },
  {
   "cell_type": "markdown",
   "metadata": {},
   "source": [
    "Se observa que la serie corregida se acerca a los valores de IDEAM para cuando la energía está en alrededor de 1.3. Los errores observados "
   ]
  }
 ],
 "metadata": {
  "kernelspec": {
   "display_name": "Python 3",
   "language": "python",
   "name": "python3"
  },
  "language_info": {
   "codemirror_mode": {
    "name": "ipython",
    "version": 3
   },
   "file_extension": ".py",
   "mimetype": "text/x-python",
   "name": "python",
   "nbconvert_exporter": "python",
   "pygments_lexer": "ipython3",
   "version": "3.6.3"
  }
 },
 "nbformat": 4,
 "nbformat_minor": 2
}
