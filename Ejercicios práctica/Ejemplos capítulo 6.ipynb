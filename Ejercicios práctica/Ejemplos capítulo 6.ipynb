{
 "cells": [
  {
   "cell_type": "markdown",
   "metadata": {},
   "source": [
    "# Interpolación"
   ]
  },
  {
   "cell_type": "markdown",
   "metadata": {
    "collapsed": true
   },
   "source": [
    "## Ejercicio 6.1"
   ]
  },
  {
   "cell_type": "markdown",
   "metadata": {
    "collapsed": true
   },
   "source": [
    "Vandermonde"
   ]
  },
  {
   "cell_type": "code",
   "execution_count": 57,
   "metadata": {},
   "outputs": [],
   "source": [
    "import scipy as sp\n",
    "import numpy as np\n",
    "from scipy.interpolate import lagrange"
   ]
  },
  {
   "cell_type": "code",
   "execution_count": 50,
   "metadata": {},
   "outputs": [],
   "source": [
    "f=np.array([[1],[2],[1.5],[1]])"
   ]
  },
  {
   "cell_type": "code",
   "execution_count": 51,
   "metadata": {},
   "outputs": [
    {
     "data": {
      "text/plain": [
       "array([[ 1.   ,  0.   ,  0.   ,  0.   ],\n",
       "       [ 1.   ,  0.5  ,  0.25 ,  0.125],\n",
       "       [ 1.   ,  1.   ,  1.   ,  1.   ],\n",
       "       [ 1.   ,  1.5  ,  2.25 ,  3.375]])"
      ]
     },
     "execution_count": 51,
     "metadata": {},
     "output_type": "execute_result"
    }
   ],
   "source": [
    "np.vander([0,0.5,1,1.5],increasing=True)"
   ]
  },
  {
   "cell_type": "code",
   "execution_count": 52,
   "metadata": {
    "collapsed": true
   },
   "outputs": [],
   "source": [
    "a=np.dot(np.linalg.inv(V),f)"
   ]
  },
  {
   "cell_type": "code",
   "execution_count": 53,
   "metadata": {},
   "outputs": [
    {
     "name": "stdout",
     "output_type": "stream",
     "text": [
      "[[ 2. ]\n",
      " [-6. ]\n",
      " [ 4.5]\n",
      " [ 1. ]]\n"
     ]
    }
   ],
   "source": [
    "print(a)"
   ]
  },
  {
   "cell_type": "markdown",
   "metadata": {},
   "source": [
    "Lagrange"
   ]
  },
  {
   "cell_type": "code",
   "execution_count": 59,
   "metadata": {},
   "outputs": [
    {
     "data": {
      "text/plain": [
       "poly1d([ 2. , -6. ,  4.5,  1. ])"
      ]
     },
     "execution_count": 59,
     "metadata": {},
     "output_type": "execute_result"
    }
   ],
   "source": [
    "lagrange([0,0.5,1,1.5],[1,2,1.5,1])"
   ]
  },
  {
   "cell_type": "markdown",
   "metadata": {},
   "source": [
    "Neville"
   ]
  },
  {
   "cell_type": "code",
   "execution_count": 65,
   "metadata": {},
   "outputs": [
    {
     "name": "stdout",
     "output_type": "stream",
     "text": [
      "xa = [4, 12, 20]\n",
      "xi = [0, 8, 16, 24]\n",
      "yi = [0.0, 0.0, 1.0, 1.0]\n",
      "0.5 1.0 1.0 0.0 1.0\n",
      "yi = [0.0, 0.0, 1.0, 2.0]\n",
      "0.4375 0.875 1.125 0.25 0.75\n",
      "yi = [0.0, 0.0, 1.0, 3.0]\n",
      "0.375 0.75 1.25 0.5 0.5\n",
      "yi = [0.0, 0.0, 1.0, 4.0]\n",
      "0.3125 0.625 1.375 0.75 0.25\n",
      "yi = [0.0, 0.0, 1.0, 5.0]\n",
      "0.25 0.5 1.5 1.0 0.0\n",
      "yi = [0.0, 0.0, 1.0, 6.0]\n",
      "0.1875 0.375 1.625 1.25 -0.25\n",
      "yi = [0.0, 0.0, 1.0, 7.0]\n",
      "0.125 0.25 1.75 1.5 -0.5\n",
      "yi = [0.0, 0.0, 1.0, 8.0]\n",
      "0.0625 0.125 1.875 1.75 -0.75\n",
      "yi = [0.0, 0.0, 1.0, 9.0]\n",
      "-0.0 -0.0 2.0 2.0 -1.0\n",
      "yi = [0.0, 0.0, 1.0, 10.0]\n",
      "-0.0625 -0.125 2.125 2.25 -1.25\n"
     ]
    }
   ],
   "source": [
    "def neville(x, y, x0):\n",
    "    \"\"\"Through any N points y[i] = f(x[i]), there is a unique\n",
    "    polynomial P order N-1.  Neville's algorithm is used for finding\n",
    "    interpolates of this unique polynomial at any point x.\"\"\"\n",
    "\n",
    "    n = len(x)\n",
    "    p = n*[0]\n",
    "    for k in range(n):\n",
    "        for j in range(n-k):\n",
    "            if k == 0:\n",
    "                p[j] = y[j]\n",
    "            else:\n",
    "                p[j] = ((x0-x[j+k])*p[j]+(x[j]-x0)*p[j+1])/(x[j]-x[j+k])\n",
    "    return p[0]\n",
    "\n",
    "xa = [4,  12,  20]\n",
    "print('xa =', xa)\n",
    "xi = [0,   8,  16,  24]\n",
    "print('xi =', xi)\n",
    "\n",
    "l1, l2 = 8, 16\n",
    "for m in range(0, 10, 1):\n",
    "    #ya = [0.,  1., 1.*m]\n",
    "    #print 'ya =', ya,\n",
    "    #z1 = neville(xa, ya, l1)\n",
    "    #z2 = neville(xa, ya, l2)\n",
    "    #print l1, z1, l2, z2, (z2-z1), (ya[1]-(z2-z1)/2.)/2.,(ya[1]+(z2-z1)/2.)/2.\n",
    "\n",
    "    yi = [0.,  0., 1., 1.*m+1.]\n",
    "    print('yi =', yi,)\n",
    "    z = neville(xi, yi, 12)\n",
    "    s1, s2 = 2*(z-yi[1]), 2*(yi[2]-z)\n",
    "    d = s2-s1\n",
    "    print(z, s1, s2, d, s1-d/2)\n",
    "\n",
    "#m, d = 100, 4\n",
    "#y = [0., 0.,  m*1.,  (m+1)*1.]\n",
    "#y = [0., 24.9375,  25.9375,  25.9375]\n",
    "#y = [0., 8.0430,  9.0430,  9.0430]\n",
    "#y = [0., 2.7634,  3.7638,  3.7638]\n",
    "#for l in range(0, 24, d):\n",
    "#    print l+d, neville(x, y, l+d)-neville(x, y, l)"
   ]
  },
  {
   "cell_type": "code",
   "execution_count": 68,
   "metadata": {},
   "outputs": [
    {
     "ename": "IndentationError",
     "evalue": "unindent does not match any outer indentation level (<tokenize>, line 26)",
     "output_type": "error",
     "traceback": [
      "\u001b[0;36m  File \u001b[0;32m\"<tokenize>\"\u001b[0;36m, line \u001b[0;32m26\u001b[0m\n\u001b[0;31m    x.astype(float)\u001b[0m\n\u001b[0m    ^\u001b[0m\n\u001b[0;31mIndentationError\u001b[0m\u001b[0;31m:\u001b[0m unindent does not match any outer indentation level\n"
     ]
    }
   ],
   "source": [
    "import matplotlib.pyplot as plt\n",
    "\n",
    "def coef(x, y):\n",
    "    '''x : array of data points\n",
    "       y : array of f(x)  '''\n",
    "    x.astype(float)\n",
    "    y.astype(float)\n",
    "    n = len(x)\n",
    "    a = []\n",
    "    for i in range(n):\n",
    "        a.append(y[i])\n",
    "\n",
    "    for j in range(1, n):\n",
    "\n",
    "        for i in range(n-1, j-1, -1):\n",
    "            a[i] = float(a[i]-a[i-1])/float(x[i]-x[i-j])\n",
    "\n",
    "    return np.array(a) # return an array of coefficient\n",
    "\n",
    "def Eval(a, x, r):\n",
    "\n",
    "     ''' a : array returned by function coef()\n",
    "        x : array of data points\n",
    "        r : the node to interpolate at  '''\n",
    "\n",
    "    x.astype(float)\n",
    "    n = len( a ) - 1\n",
    "    temp = a[n]\n",
    "    for i in range( n - 1, -1, -1 ):\n",
    "        temp = temp * ( r - x[i] ) + a[i]\n",
    "    return temp # return the y_value interpolatio"
   ]
  },
  {
   "cell_type": "code",
   "execution_count": null,
   "metadata": {
    "collapsed": true
   },
   "outputs": [],
   "source": []
  }
 ],
 "metadata": {
  "kernelspec": {
   "display_name": "Python 3",
   "language": "python",
   "name": "python3"
  },
  "language_info": {
   "codemirror_mode": {
    "name": "ipython",
    "version": 3
   },
   "file_extension": ".py",
   "mimetype": "text/x-python",
   "name": "python",
   "nbconvert_exporter": "python",
   "pygments_lexer": "ipython3",
   "version": "3.6.3"
  }
 },
 "nbformat": 4,
 "nbformat_minor": 2
}
