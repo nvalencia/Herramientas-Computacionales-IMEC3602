{
 "cells": [
  {
   "cell_type": "code",
   "execution_count": 3,
   "metadata": {
    "collapsed": true
   },
   "outputs": [],
   "source": [
    "import numpy as np\n",
    "import scipy as sp"
   ]
  },
  {
   "cell_type": "code",
   "execution_count": 4,
   "metadata": {
    "collapsed": true
   },
   "outputs": [],
   "source": [
    "gama=np.array([50,70,90,110,130]) #datos de rata\n",
    "tao=np.array([6.01,7.48,8.59,9.19,10.21]) #datos de esfuerzo"
   ]
  },
  {
   "cell_type": "code",
   "execution_count": 10,
   "metadata": {},
   "outputs": [],
   "source": [
    "(a,b)=sp.polyfit(gama,tao,1) #polyfit encuentra a y b tales que y=a*gama+b que mejor se ajusta a los datos\n",
    "y=sp.polyval([a,b],gama) #polyval me evalùa, con los parámetros a y b, los valores de gama\n",
    "error=np.sqrt(sum((y-tao)**2)/y.size)"
   ]
  },
  {
   "cell_type": "code",
   "execution_count": 16,
   "metadata": {},
   "outputs": [
    {
     "name": "stdout",
     "output_type": "stream",
     "text": [
      "parameters: a=0.051 b=3.747 error=0.210\n"
     ]
    }
   ],
   "source": [
    "print('parameters: a=%.3f b=%.3f error=%.3f' %(a,b,error))"
   ]
  },
  {
   "cell_type": "code",
   "execution_count": null,
   "metadata": {
    "collapsed": true
   },
   "outputs": [],
   "source": []
  }
 ],
 "metadata": {
  "kernelspec": {
   "display_name": "Python 3",
   "language": "python",
   "name": "python3"
  },
  "language_info": {
   "codemirror_mode": {
    "name": "ipython",
    "version": 3
   },
   "file_extension": ".py",
   "mimetype": "text/x-python",
   "name": "python",
   "nbconvert_exporter": "python",
   "pygments_lexer": "ipython3",
   "version": "3.6.3"
  }
 },
 "nbformat": 4,
 "nbformat_minor": 2
}
